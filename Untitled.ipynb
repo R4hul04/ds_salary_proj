{
 "cells": [
  {
   "cell_type": "code",
   "execution_count": 1,
   "id": "b6f81c31",
   "metadata": {},
   "outputs": [],
   "source": [
    "import pandas as pd\n",
    "import matplotlib.pyplot as plt\n",
    "import seaborn as sns"
   ]
  },
  {
   "cell_type": "code",
   "execution_count": 3,
   "id": "88054be8",
   "metadata": {},
   "outputs": [],
   "source": [
    "df = pd.read_csv('salary_data_cleaned.csv')"
   ]
  },
  {
   "cell_type": "code",
   "execution_count": 4,
   "id": "cdf5c91c",
   "metadata": {},
   "outputs": [
    {
     "data": {
      "text/html": [
       "<div>\n",
       "<style scoped>\n",
       "    .dataframe tbody tr th:only-of-type {\n",
       "        vertical-align: middle;\n",
       "    }\n",
       "\n",
       "    .dataframe tbody tr th {\n",
       "        vertical-align: top;\n",
       "    }\n",
       "\n",
       "    .dataframe thead th {\n",
       "        text-align: right;\n",
       "    }\n",
       "</style>\n",
       "<table border=\"1\" class=\"dataframe\">\n",
       "  <thead>\n",
       "    <tr style=\"text-align: right;\">\n",
       "      <th></th>\n",
       "      <th>Job Title</th>\n",
       "      <th>Salary Estimate</th>\n",
       "      <th>Job Description</th>\n",
       "      <th>Rating</th>\n",
       "      <th>Company Name</th>\n",
       "      <th>Location</th>\n",
       "      <th>Size</th>\n",
       "      <th>Founded</th>\n",
       "      <th>Type of ownership</th>\n",
       "      <th>Industry</th>\n",
       "      <th>...</th>\n",
       "      <th>max_salary</th>\n",
       "      <th>avg_salary</th>\n",
       "      <th>company_txt</th>\n",
       "      <th>job_state</th>\n",
       "      <th>age</th>\n",
       "      <th>python_yn</th>\n",
       "      <th>r_studio</th>\n",
       "      <th>spark</th>\n",
       "      <th>aws</th>\n",
       "      <th>excel</th>\n",
       "    </tr>\n",
       "  </thead>\n",
       "  <tbody>\n",
       "    <tr>\n",
       "      <th>0</th>\n",
       "      <td>Data Scientist</td>\n",
       "      <td>Employer Provided Salary:$130K - $160K</td>\n",
       "      <td>Job Title: Data Scientist\\nExperience Levels: ...</td>\n",
       "      <td>4.5</td>\n",
       "      <td>Quiet Professionals LLC\\n4.5</td>\n",
       "      <td>Doral, FL</td>\n",
       "      <td>201 to 500 Employees</td>\n",
       "      <td>2013</td>\n",
       "      <td>Company - Private</td>\n",
       "      <td>Aerospace &amp; Defense</td>\n",
       "      <td>...</td>\n",
       "      <td>160</td>\n",
       "      <td>145.0</td>\n",
       "      <td>Quiet Professionals LLC</td>\n",
       "      <td>FL</td>\n",
       "      <td>10</td>\n",
       "      <td>0</td>\n",
       "      <td>0</td>\n",
       "      <td>0</td>\n",
       "      <td>0</td>\n",
       "      <td>0</td>\n",
       "    </tr>\n",
       "    <tr>\n",
       "      <th>1</th>\n",
       "      <td>Data Scientist (V)</td>\n",
       "      <td>Employer Provided Salary:$140K - $180K</td>\n",
       "      <td>DCI Job Requirement for:\\nData Scientist\\nLoca...</td>\n",
       "      <td>3.7</td>\n",
       "      <td>DCI Solutions\\n3.7</td>\n",
       "      <td>Aberdeen, MD</td>\n",
       "      <td>1 to 50 Employees</td>\n",
       "      <td>-1</td>\n",
       "      <td>Contract</td>\n",
       "      <td>-1</td>\n",
       "      <td>...</td>\n",
       "      <td>180</td>\n",
       "      <td>160.0</td>\n",
       "      <td>DCI Solutions</td>\n",
       "      <td>MD</td>\n",
       "      <td>-1</td>\n",
       "      <td>0</td>\n",
       "      <td>0</td>\n",
       "      <td>0</td>\n",
       "      <td>0</td>\n",
       "      <td>0</td>\n",
       "    </tr>\n",
       "    <tr>\n",
       "      <th>2</th>\n",
       "      <td>Polymer Lab Specialist Level 3</td>\n",
       "      <td>Employer Provided Salary:$92K</td>\n",
       "      <td>Additive Manufacturing Polymer Lab Specialist ...</td>\n",
       "      <td>-1.0</td>\n",
       "      <td>Center Street Technologies</td>\n",
       "      <td>Youngstown, OH</td>\n",
       "      <td>-1</td>\n",
       "      <td>-1</td>\n",
       "      <td>-1</td>\n",
       "      <td>-1</td>\n",
       "      <td>...</td>\n",
       "      <td>92</td>\n",
       "      <td>92.0</td>\n",
       "      <td>Center Street Technologies</td>\n",
       "      <td>OH</td>\n",
       "      <td>-1</td>\n",
       "      <td>0</td>\n",
       "      <td>0</td>\n",
       "      <td>0</td>\n",
       "      <td>0</td>\n",
       "      <td>0</td>\n",
       "    </tr>\n",
       "    <tr>\n",
       "      <th>3</th>\n",
       "      <td>Operations Planning &amp; Analysis Manager</td>\n",
       "      <td>Employer Provided Salary:$95K - $110K</td>\n",
       "      <td>General Definition: The role of the Operationa...</td>\n",
       "      <td>-1.0</td>\n",
       "      <td>Global Gaming Solutions, LLC</td>\n",
       "      <td>Oklahoma City, OK</td>\n",
       "      <td>-1</td>\n",
       "      <td>-1</td>\n",
       "      <td>-1</td>\n",
       "      <td>-1</td>\n",
       "      <td>...</td>\n",
       "      <td>110</td>\n",
       "      <td>102.5</td>\n",
       "      <td>Global Gaming Solutions, LLC</td>\n",
       "      <td>OK</td>\n",
       "      <td>-1</td>\n",
       "      <td>0</td>\n",
       "      <td>0</td>\n",
       "      <td>0</td>\n",
       "      <td>0</td>\n",
       "      <td>0</td>\n",
       "    </tr>\n",
       "    <tr>\n",
       "      <th>4</th>\n",
       "      <td>Senior Data Scientist</td>\n",
       "      <td>$111K - $149K (Glassdoor est.)</td>\n",
       "      <td>Senior Data Scientist\\nGreensea is revolutioni...</td>\n",
       "      <td>5.0</td>\n",
       "      <td>Greensea Systems\\n5.0</td>\n",
       "      <td>Plymouth, MA</td>\n",
       "      <td>1 to 50 Employees</td>\n",
       "      <td>2006</td>\n",
       "      <td>Company - Private</td>\n",
       "      <td>Computer Hardware Development</td>\n",
       "      <td>...</td>\n",
       "      <td>149</td>\n",
       "      <td>130.0</td>\n",
       "      <td>Greensea Systems</td>\n",
       "      <td>MA</td>\n",
       "      <td>17</td>\n",
       "      <td>0</td>\n",
       "      <td>0</td>\n",
       "      <td>0</td>\n",
       "      <td>0</td>\n",
       "      <td>0</td>\n",
       "    </tr>\n",
       "  </tbody>\n",
       "</table>\n",
       "<p>5 rows × 25 columns</p>\n",
       "</div>"
      ],
      "text/plain": [
       "                                Job Title  \\\n",
       "0                          Data Scientist   \n",
       "1                      Data Scientist (V)   \n",
       "2          Polymer Lab Specialist Level 3   \n",
       "3  Operations Planning & Analysis Manager   \n",
       "4                   Senior Data Scientist   \n",
       "\n",
       "                          Salary Estimate  \\\n",
       "0  Employer Provided Salary:$130K - $160K   \n",
       "1  Employer Provided Salary:$140K - $180K   \n",
       "2           Employer Provided Salary:$92K   \n",
       "3   Employer Provided Salary:$95K - $110K   \n",
       "4          $111K - $149K (Glassdoor est.)   \n",
       "\n",
       "                                     Job Description  Rating  \\\n",
       "0  Job Title: Data Scientist\\nExperience Levels: ...     4.5   \n",
       "1  DCI Job Requirement for:\\nData Scientist\\nLoca...     3.7   \n",
       "2  Additive Manufacturing Polymer Lab Specialist ...    -1.0   \n",
       "3  General Definition: The role of the Operationa...    -1.0   \n",
       "4  Senior Data Scientist\\nGreensea is revolutioni...     5.0   \n",
       "\n",
       "                   Company Name           Location                  Size  \\\n",
       "0  Quiet Professionals LLC\\n4.5          Doral, FL  201 to 500 Employees   \n",
       "1            DCI Solutions\\n3.7       Aberdeen, MD     1 to 50 Employees   \n",
       "2    Center Street Technologies     Youngstown, OH                    -1   \n",
       "3  Global Gaming Solutions, LLC  Oklahoma City, OK                    -1   \n",
       "4         Greensea Systems\\n5.0       Plymouth, MA     1 to 50 Employees   \n",
       "\n",
       "   Founded  Type of ownership                       Industry  ... max_salary  \\\n",
       "0     2013  Company - Private            Aerospace & Defense  ...        160   \n",
       "1       -1           Contract                             -1  ...        180   \n",
       "2       -1                 -1                             -1  ...         92   \n",
       "3       -1                 -1                             -1  ...        110   \n",
       "4     2006  Company - Private  Computer Hardware Development  ...        149   \n",
       "\n",
       "  avg_salary                   company_txt  job_state  age  python_yn  \\\n",
       "0      145.0       Quiet Professionals LLC         FL   10          0   \n",
       "1      160.0                 DCI Solutions         MD   -1          0   \n",
       "2       92.0    Center Street Technologies         OH   -1          0   \n",
       "3      102.5  Global Gaming Solutions, LLC         OK   -1          0   \n",
       "4      130.0              Greensea Systems         MA   17          0   \n",
       "\n",
       "   r_studio spark aws  excel  \n",
       "0         0     0   0      0  \n",
       "1         0     0   0      0  \n",
       "2         0     0   0      0  \n",
       "3         0     0   0      0  \n",
       "4         0     0   0      0  \n",
       "\n",
       "[5 rows x 25 columns]"
      ]
     },
     "execution_count": 4,
     "metadata": {},
     "output_type": "execute_result"
    }
   ],
   "source": [
    "df.head()"
   ]
  },
  {
   "cell_type": "code",
   "execution_count": 5,
   "id": "5d9d9f1a",
   "metadata": {},
   "outputs": [
    {
     "data": {
      "text/plain": [
       "Index(['Job Title', 'Salary Estimate', 'Job Description', 'Rating',\n",
       "       'Company Name', 'Location', 'Size', 'Founded', 'Type of ownership',\n",
       "       'Industry', 'Sector', 'Revenue', 'hourly', 'employer_provided_salary',\n",
       "       'min_salary', 'max_salary', 'avg_salary', 'company_txt', 'job_state',\n",
       "       'age', 'python_yn', 'r_studio', 'spark', 'aws', 'excel'],\n",
       "      dtype='object')"
      ]
     },
     "execution_count": 5,
     "metadata": {},
     "output_type": "execute_result"
    }
   ],
   "source": [
    "df.columns"
   ]
  },
  {
   "cell_type": "code",
   "execution_count": 7,
   "id": "f6af3484",
   "metadata": {},
   "outputs": [],
   "source": [
    "def title_simplifier(title):\n",
    "    if 'data scientist' in title.lower():\n",
    "        return 'data scientist'\n",
    "    elif 'data engineer' in title.lower():\n",
    "        return 'data engineer'\n",
    "    elif 'analyst' in title.lower():\n",
    "        return 'analyst'\n",
    "    elif 'machine learning' in title.lower():\n",
    "        return 'mle'\n",
    "    elif 'manager' in title.lower():\n",
    "        return 'manager'\n",
    "    elif 'director' in title.lower():\n",
    "        return 'director'\n",
    "    else:\n",
    "        return 'na'\n",
    "    \n",
    "def seniority(title):\n",
    "    if 'sr' in title.lower() or 'senior' in title.lower() or 'sr' in title.lower() or 'lead' in title.lower() or 'principal' in title.lower():\n",
    "            return 'senior'\n",
    "    elif 'jr' in title.lower() or 'jr.' in title.lower():\n",
    "        return 'jr'\n",
    "    else:\n",
    "        return 'na'\n",
    "\t\t\n",
    "## Job title and seniority \n",
    "\t\t\n",
    "##  Fix state Los Angeles \n",
    "\n",
    "##  Job description length \n",
    "\n",
    "##  Competitor count\n",
    "\n",
    "## hourly wage to annual \n",
    "\n",
    "#remove new line from job title"
   ]
  },
  {
   "cell_type": "code",
   "execution_count": 8,
   "id": "2ced0af6",
   "metadata": {},
   "outputs": [],
   "source": [
    "df['job_simp'] = df['Job Title'].apply(title_simplifier)"
   ]
  },
  {
   "cell_type": "code",
   "execution_count": 9,
   "id": "940850c5",
   "metadata": {},
   "outputs": [
    {
     "data": {
      "text/plain": [
       "data scientist    634\n",
       "na                137\n",
       "analyst            78\n",
       "manager            58\n",
       "director           29\n",
       "data engineer       1\n",
       "mle                 1\n",
       "Name: job_simp, dtype: int64"
      ]
     },
     "execution_count": 9,
     "metadata": {},
     "output_type": "execute_result"
    }
   ],
   "source": [
    "df.job_simp.value_counts()"
   ]
  },
  {
   "cell_type": "code",
   "execution_count": 10,
   "id": "2c1d9753",
   "metadata": {},
   "outputs": [
    {
     "data": {
      "text/plain": [
       "na        686\n",
       "senior    251\n",
       "jr          1\n",
       "Name: seniority, dtype: int64"
      ]
     },
     "execution_count": 10,
     "metadata": {},
     "output_type": "execute_result"
    }
   ],
   "source": [
    "df['seniority'] = df['Job Title'].apply(seniority)\n",
    "df.seniority.value_counts()"
   ]
  },
  {
   "cell_type": "code",
   "execution_count": 11,
   "id": "4d4a63c8",
   "metadata": {},
   "outputs": [
    {
     "data": {
      "text/plain": [
       "DC    159\n",
       "PA     83\n",
       "VA     76\n",
       "CA     69\n",
       "-1     66\n",
       "MA     64\n",
       "FL     63\n",
       "MD     62\n",
       "TX     46\n",
       "NM     43\n",
       "IL     43\n",
       "OH     35\n",
       "CT     30\n",
       "OK     28\n",
       "MO     20\n",
       "WI     11\n",
       "NY      8\n",
       "KS      7\n",
       "GA      5\n",
       "AL      3\n",
       "SC      3\n",
       "NJ      2\n",
       "NC      2\n",
       "IN      2\n",
       "NE      2\n",
       "MI      2\n",
       "UT      1\n",
       "ME      1\n",
       "MS      1\n",
       "WA      1\n",
       "Name: job_state, dtype: int64"
      ]
     },
     "execution_count": 11,
     "metadata": {},
     "output_type": "execute_result"
    }
   ],
   "source": [
    "df['job_state']= df.job_state.apply(lambda x: x.strip() if x.strip().lower() != 'los angeles' else 'CA')\n",
    "df.job_state.value_counts()"
   ]
  },
  {
   "cell_type": "code",
   "execution_count": 12,
   "id": "17276f93",
   "metadata": {},
   "outputs": [
    {
     "data": {
      "text/plain": [
       "0       703\n",
       "1       299\n",
       "2       839\n",
       "3       848\n",
       "4      1372\n",
       "       ... \n",
       "933     839\n",
       "934     299\n",
       "935     703\n",
       "936    1397\n",
       "937    1286\n",
       "Name: desc_len, Length: 938, dtype: int64"
      ]
     },
     "execution_count": 12,
     "metadata": {},
     "output_type": "execute_result"
    }
   ],
   "source": [
    "#  Job description length \n",
    "df['desc_len'] = df['Job Description'].apply(lambda x: len(x))\n",
    "df['desc_len']"
   ]
  },
  {
   "cell_type": "code",
   "execution_count": 16,
   "id": "dfb68ec4",
   "metadata": {},
   "outputs": [],
   "source": [
    "#hourly wage to annual \n",
    "\n",
    "df['min_salary'] = df.apply(lambda x: x.min_salary*2 if x.hourly ==1 else x.min_salary, axis =1)\n",
    "df['max_salary'] = df.apply(lambda x: x.max_salary*2 if x.hourly ==1 else x.max_salary, axis =1)"
   ]
  },
  {
   "cell_type": "code",
   "execution_count": 17,
   "id": "e0db64ee",
   "metadata": {},
   "outputs": [
    {
     "data": {
      "text/html": [
       "<div>\n",
       "<style scoped>\n",
       "    .dataframe tbody tr th:only-of-type {\n",
       "        vertical-align: middle;\n",
       "    }\n",
       "\n",
       "    .dataframe tbody tr th {\n",
       "        vertical-align: top;\n",
       "    }\n",
       "\n",
       "    .dataframe thead th {\n",
       "        text-align: right;\n",
       "    }\n",
       "</style>\n",
       "<table border=\"1\" class=\"dataframe\">\n",
       "  <thead>\n",
       "    <tr style=\"text-align: right;\">\n",
       "      <th></th>\n",
       "      <th>hourly</th>\n",
       "      <th>min_salary</th>\n",
       "      <th>max_salary</th>\n",
       "    </tr>\n",
       "  </thead>\n",
       "  <tbody>\n",
       "  </tbody>\n",
       "</table>\n",
       "</div>"
      ],
      "text/plain": [
       "Empty DataFrame\n",
       "Columns: [hourly, min_salary, max_salary]\n",
       "Index: []"
      ]
     },
     "execution_count": 17,
     "metadata": {},
     "output_type": "execute_result"
    }
   ],
   "source": [
    "df[df.hourly ==1][['hourly','min_salary','max_salary']]"
   ]
  },
  {
   "cell_type": "code",
   "execution_count": 18,
   "id": "8fec9c2e",
   "metadata": {},
   "outputs": [],
   "source": [
    "df['company_txt'] = df.company_txt.apply(lambda x: x.replace('\\n', ''))"
   ]
  },
  {
   "cell_type": "code",
   "execution_count": 19,
   "id": "57c7e499",
   "metadata": {},
   "outputs": [
    {
     "data": {
      "text/plain": [
       "0           Quiet Professionals LLC\n",
       "1                     DCI Solutions\n",
       "2        Center Street Technologies\n",
       "3      Global Gaming Solutions, LLC\n",
       "4                  Greensea Systems\n",
       "                   ...             \n",
       "933      Center Street Technologies\n",
       "934                   DCI Solutions\n",
       "935         Quiet Professionals LLC\n",
       "936            Near-Miss Management\n",
       "937                UTHealth Houston\n",
       "Name: company_txt, Length: 938, dtype: object"
      ]
     },
     "execution_count": 19,
     "metadata": {},
     "output_type": "execute_result"
    }
   ],
   "source": [
    "df['company_txt']"
   ]
  },
  {
   "cell_type": "code",
   "execution_count": 20,
   "id": "429bed48",
   "metadata": {},
   "outputs": [
    {
     "data": {
      "text/html": [
       "<div>\n",
       "<style scoped>\n",
       "    .dataframe tbody tr th:only-of-type {\n",
       "        vertical-align: middle;\n",
       "    }\n",
       "\n",
       "    .dataframe tbody tr th {\n",
       "        vertical-align: top;\n",
       "    }\n",
       "\n",
       "    .dataframe thead th {\n",
       "        text-align: right;\n",
       "    }\n",
       "</style>\n",
       "<table border=\"1\" class=\"dataframe\">\n",
       "  <thead>\n",
       "    <tr style=\"text-align: right;\">\n",
       "      <th></th>\n",
       "      <th>Rating</th>\n",
       "      <th>Founded</th>\n",
       "      <th>hourly</th>\n",
       "      <th>employer_provided_salary</th>\n",
       "      <th>min_salary</th>\n",
       "      <th>max_salary</th>\n",
       "      <th>avg_salary</th>\n",
       "      <th>age</th>\n",
       "      <th>python_yn</th>\n",
       "      <th>r_studio</th>\n",
       "      <th>spark</th>\n",
       "      <th>aws</th>\n",
       "      <th>excel</th>\n",
       "      <th>desc_len</th>\n",
       "    </tr>\n",
       "  </thead>\n",
       "  <tbody>\n",
       "    <tr>\n",
       "      <th>count</th>\n",
       "      <td>938.000000</td>\n",
       "      <td>938.000000</td>\n",
       "      <td>938.0</td>\n",
       "      <td>938.0</td>\n",
       "      <td>938.000000</td>\n",
       "      <td>938.000000</td>\n",
       "      <td>938.000000</td>\n",
       "      <td>938.000000</td>\n",
       "      <td>938.000000</td>\n",
       "      <td>938.0</td>\n",
       "      <td>938.000000</td>\n",
       "      <td>938.000000</td>\n",
       "      <td>938.000000</td>\n",
       "      <td>938.000000</td>\n",
       "    </tr>\n",
       "    <tr>\n",
       "      <th>mean</th>\n",
       "      <td>1.911514</td>\n",
       "      <td>928.244136</td>\n",
       "      <td>0.0</td>\n",
       "      <td>0.0</td>\n",
       "      <td>107.446695</td>\n",
       "      <td>143.950959</td>\n",
       "      <td>125.698827</td>\n",
       "      <td>19.649254</td>\n",
       "      <td>0.179104</td>\n",
       "      <td>0.0</td>\n",
       "      <td>0.069296</td>\n",
       "      <td>0.077825</td>\n",
       "      <td>0.219616</td>\n",
       "      <td>1322.618337</td>\n",
       "    </tr>\n",
       "    <tr>\n",
       "      <th>std</th>\n",
       "      <td>2.454520</td>\n",
       "      <td>989.398501</td>\n",
       "      <td>0.0</td>\n",
       "      <td>0.0</td>\n",
       "      <td>36.978690</td>\n",
       "      <td>52.845840</td>\n",
       "      <td>44.148322</td>\n",
       "      <td>32.101620</td>\n",
       "      <td>0.383644</td>\n",
       "      <td>0.0</td>\n",
       "      <td>0.254093</td>\n",
       "      <td>0.268039</td>\n",
       "      <td>0.414207</td>\n",
       "      <td>1188.489646</td>\n",
       "    </tr>\n",
       "    <tr>\n",
       "      <th>min</th>\n",
       "      <td>-1.000000</td>\n",
       "      <td>-1.000000</td>\n",
       "      <td>0.0</td>\n",
       "      <td>0.0</td>\n",
       "      <td>21.000000</td>\n",
       "      <td>21.000000</td>\n",
       "      <td>21.000000</td>\n",
       "      <td>-1.000000</td>\n",
       "      <td>0.000000</td>\n",
       "      <td>0.0</td>\n",
       "      <td>0.000000</td>\n",
       "      <td>0.000000</td>\n",
       "      <td>0.000000</td>\n",
       "      <td>121.000000</td>\n",
       "    </tr>\n",
       "    <tr>\n",
       "      <th>25%</th>\n",
       "      <td>-1.000000</td>\n",
       "      <td>-1.000000</td>\n",
       "      <td>0.0</td>\n",
       "      <td>0.0</td>\n",
       "      <td>81.000000</td>\n",
       "      <td>110.000000</td>\n",
       "      <td>99.500000</td>\n",
       "      <td>-1.000000</td>\n",
       "      <td>0.000000</td>\n",
       "      <td>0.0</td>\n",
       "      <td>0.000000</td>\n",
       "      <td>0.000000</td>\n",
       "      <td>0.000000</td>\n",
       "      <td>711.000000</td>\n",
       "    </tr>\n",
       "    <tr>\n",
       "      <th>50%</th>\n",
       "      <td>3.700000</td>\n",
       "      <td>-1.000000</td>\n",
       "      <td>0.0</td>\n",
       "      <td>0.0</td>\n",
       "      <td>100.000000</td>\n",
       "      <td>136.000000</td>\n",
       "      <td>118.500000</td>\n",
       "      <td>-1.000000</td>\n",
       "      <td>0.000000</td>\n",
       "      <td>0.0</td>\n",
       "      <td>0.000000</td>\n",
       "      <td>0.000000</td>\n",
       "      <td>0.000000</td>\n",
       "      <td>1046.000000</td>\n",
       "    </tr>\n",
       "    <tr>\n",
       "      <th>75%</th>\n",
       "      <td>3.900000</td>\n",
       "      <td>1979.000000</td>\n",
       "      <td>0.0</td>\n",
       "      <td>0.0</td>\n",
       "      <td>130.000000</td>\n",
       "      <td>160.000000</td>\n",
       "      <td>145.000000</td>\n",
       "      <td>30.750000</td>\n",
       "      <td>0.000000</td>\n",
       "      <td>0.0</td>\n",
       "      <td>0.000000</td>\n",
       "      <td>0.000000</td>\n",
       "      <td>0.000000</td>\n",
       "      <td>1372.000000</td>\n",
       "    </tr>\n",
       "    <tr>\n",
       "      <th>max</th>\n",
       "      <td>5.000000</td>\n",
       "      <td>2018.000000</td>\n",
       "      <td>0.0</td>\n",
       "      <td>0.0</td>\n",
       "      <td>200.000000</td>\n",
       "      <td>350.000000</td>\n",
       "      <td>262.500000</td>\n",
       "      <td>236.000000</td>\n",
       "      <td>1.000000</td>\n",
       "      <td>0.0</td>\n",
       "      <td>1.000000</td>\n",
       "      <td>1.000000</td>\n",
       "      <td>1.000000</td>\n",
       "      <td>9369.000000</td>\n",
       "    </tr>\n",
       "  </tbody>\n",
       "</table>\n",
       "</div>"
      ],
      "text/plain": [
       "           Rating      Founded  hourly  employer_provided_salary  min_salary  \\\n",
       "count  938.000000   938.000000   938.0                     938.0  938.000000   \n",
       "mean     1.911514   928.244136     0.0                       0.0  107.446695   \n",
       "std      2.454520   989.398501     0.0                       0.0   36.978690   \n",
       "min     -1.000000    -1.000000     0.0                       0.0   21.000000   \n",
       "25%     -1.000000    -1.000000     0.0                       0.0   81.000000   \n",
       "50%      3.700000    -1.000000     0.0                       0.0  100.000000   \n",
       "75%      3.900000  1979.000000     0.0                       0.0  130.000000   \n",
       "max      5.000000  2018.000000     0.0                       0.0  200.000000   \n",
       "\n",
       "       max_salary  avg_salary         age   python_yn  r_studio       spark  \\\n",
       "count  938.000000  938.000000  938.000000  938.000000     938.0  938.000000   \n",
       "mean   143.950959  125.698827   19.649254    0.179104       0.0    0.069296   \n",
       "std     52.845840   44.148322   32.101620    0.383644       0.0    0.254093   \n",
       "min     21.000000   21.000000   -1.000000    0.000000       0.0    0.000000   \n",
       "25%    110.000000   99.500000   -1.000000    0.000000       0.0    0.000000   \n",
       "50%    136.000000  118.500000   -1.000000    0.000000       0.0    0.000000   \n",
       "75%    160.000000  145.000000   30.750000    0.000000       0.0    0.000000   \n",
       "max    350.000000  262.500000  236.000000    1.000000       0.0    1.000000   \n",
       "\n",
       "              aws       excel     desc_len  \n",
       "count  938.000000  938.000000   938.000000  \n",
       "mean     0.077825    0.219616  1322.618337  \n",
       "std      0.268039    0.414207  1188.489646  \n",
       "min      0.000000    0.000000   121.000000  \n",
       "25%      0.000000    0.000000   711.000000  \n",
       "50%      0.000000    0.000000  1046.000000  \n",
       "75%      0.000000    0.000000  1372.000000  \n",
       "max      1.000000    1.000000  9369.000000  "
      ]
     },
     "execution_count": 20,
     "metadata": {},
     "output_type": "execute_result"
    }
   ],
   "source": [
    "df.describe()"
   ]
  },
  {
   "cell_type": "code",
   "execution_count": 21,
   "id": "de426e88",
   "metadata": {},
   "outputs": [
    {
     "data": {
      "text/plain": [
       "Index(['Job Title', 'Salary Estimate', 'Job Description', 'Rating',\n",
       "       'Company Name', 'Location', 'Size', 'Founded', 'Type of ownership',\n",
       "       'Industry', 'Sector', 'Revenue', 'hourly', 'employer_provided_salary',\n",
       "       'min_salary', 'max_salary', 'avg_salary', 'company_txt', 'job_state',\n",
       "       'age', 'python_yn', 'r_studio', 'spark', 'aws', 'excel', 'job_simp',\n",
       "       'seniority', 'desc_len'],\n",
       "      dtype='object')"
      ]
     },
     "execution_count": 21,
     "metadata": {},
     "output_type": "execute_result"
    }
   ],
   "source": [
    "df.columns"
   ]
  },
  {
   "cell_type": "code",
   "execution_count": 22,
   "id": "62e7bd18",
   "metadata": {},
   "outputs": [
    {
     "data": {
      "text/plain": [
       "<AxesSubplot:>"
      ]
     },
     "execution_count": 22,
     "metadata": {},
     "output_type": "execute_result"
    },
    {
     "data": {
      "image/png": "[encoded data removed]",
      "text/plain": [
       "<Figure size 432x288 with 1 Axes>"
      ]
     },
     "metadata": {
      "needs_background": "light"
     },
     "output_type": "display_data"
    }
   ],
   "source": [
    "df.Rating.hist()"
   ]
  },
  {
   "cell_type": "code",
   "execution_count": 23,
   "id": "a08f2ef1",
   "metadata": {},
   "outputs": [
    {
     "data": {
      "text/plain": [
       "<AxesSubplot:>"
      ]
     },
     "execution_count": 23,
     "metadata": {},
     "output_type": "execute_result"
    },
    {
     "data": {
      "image/png": "[encoded data removed]",
      "text/plain": [
       "<Figure size 432x288 with 1 Axes>"
      ]
     },
     "metadata": {
      "needs_background": "light"
     },
     "output_type": "display_data"
    }
   ],
   "source": [
    "df.avg_salary.hist()"
   ]
  },
  {
   "cell_type": "code",
   "execution_count": 24,
   "id": "846f4aff",
   "metadata": {},
   "outputs": [
    {
     "data": {
      "text/plain": [
       "<AxesSubplot:>"
      ]
     },
     "execution_count": 24,
     "metadata": {},
     "output_type": "execute_result"
    },
    {
     "data": {
      "image/png": "[encoded data removed]",
      "text/plain": [
       "<Figure size 432x288 with 1 Axes>"
      ]
     },
     "metadata": {
      "needs_background": "light"
     },
     "output_type": "display_data"
    }
   ],
   "source": [
    "df.age.hist()"
   ]
  },
  {
   "cell_type": "code",
   "execution_count": 25,
   "id": "c607accb",
   "metadata": {},
   "outputs": [
    {
     "data": {
      "text/plain": [
       "<AxesSubplot:>"
      ]
     },
     "execution_count": 25,
     "metadata": {},
     "output_type": "execute_result"
    },
    {
     "data": {
      "image/png": "[encoded data removed]",
      "text/plain": [
       "<Figure size 432x288 with 1 Axes>"
      ]
     },
     "metadata": {
      "needs_background": "light"
     },
     "output_type": "display_data"
    }
   ],
   "source": [
    "df.desc_len.hist()"
   ]
  },
  {
   "cell_type": "code",
   "execution_count": 26,
   "id": "e8377b7e",
   "metadata": {},
   "outputs": [
    {
     "data": {
      "text/plain": [
       "<AxesSubplot:>"
      ]
     },
     "execution_count": 26,
     "metadata": {},
     "output_type": "execute_result"
    },
    {
     "data": {
      "image/png": "[encoded data removed]",
      "text/plain": [
       "<Figure size 432x288 with 1 Axes>"
      ]
     },
     "metadata": {
      "needs_background": "light"
     },
     "output_type": "display_data"
    }
   ],
   "source": [
    "df.boxplot(column = ['age','avg_salary','Rating'])"
   ]
  },
  {
   "cell_type": "code",
   "execution_count": 27,
   "id": "a9e5dd22",
   "metadata": {},
   "outputs": [
    {
     "data": {
      "text/plain": [
       "<AxesSubplot:>"
      ]
     },
     "execution_count": 27,
     "metadata": {},
     "output_type": "execute_result"
    },
    {
     "data": {
      "image/png": "[encoded data removed]",
      "text/plain": [
       "<Figure size 432x288 with 1 Axes>"
      ]
     },
     "metadata": {
      "needs_background": "light"
     },
     "output_type": "display_data"
    }
   ],
   "source": [
    "df.boxplot(column = 'Rating')"
   ]
  },
  {
   "cell_type": "code",
   "execution_count": 28,
   "id": "c09eefa1",
   "metadata": {},
   "outputs": [
    {
     "data": {
      "text/html": [
       "<div>\n",
       "<style scoped>\n",
       "    .dataframe tbody tr th:only-of-type {\n",
       "        vertical-align: middle;\n",
       "    }\n",
       "\n",
       "    .dataframe tbody tr th {\n",
       "        vertical-align: top;\n",
       "    }\n",
       "\n",
       "    .dataframe thead th {\n",
       "        text-align: right;\n",
       "    }\n",
       "</style>\n",
       "<table border=\"1\" class=\"dataframe\">\n",
       "  <thead>\n",
       "    <tr style=\"text-align: right;\">\n",
       "      <th></th>\n",
       "      <th>age</th>\n",
       "      <th>avg_salary</th>\n",
       "      <th>Rating</th>\n",
       "      <th>desc_len</th>\n",
       "    </tr>\n",
       "  </thead>\n",
       "  <tbody>\n",
       "    <tr>\n",
       "      <th>age</th>\n",
       "      <td>1.000000</td>\n",
       "      <td>-0.062174</td>\n",
       "      <td>0.502069</td>\n",
       "      <td>0.283016</td>\n",
       "    </tr>\n",
       "    <tr>\n",
       "      <th>avg_salary</th>\n",
       "      <td>-0.062174</td>\n",
       "      <td>1.000000</td>\n",
       "      <td>-0.000405</td>\n",
       "      <td>-0.136391</td>\n",
       "    </tr>\n",
       "    <tr>\n",
       "      <th>Rating</th>\n",
       "      <td>0.502069</td>\n",
       "      <td>-0.000405</td>\n",
       "      <td>1.000000</td>\n",
       "      <td>0.265861</td>\n",
       "    </tr>\n",
       "    <tr>\n",
       "      <th>desc_len</th>\n",
       "      <td>0.283016</td>\n",
       "      <td>-0.136391</td>\n",
       "      <td>0.265861</td>\n",
       "      <td>1.000000</td>\n",
       "    </tr>\n",
       "  </tbody>\n",
       "</table>\n",
       "</div>"
      ],
      "text/plain": [
       "                 age  avg_salary    Rating  desc_len\n",
       "age         1.000000   -0.062174  0.502069  0.283016\n",
       "avg_salary -0.062174    1.000000 -0.000405 -0.136391\n",
       "Rating      0.502069   -0.000405  1.000000  0.265861\n",
       "desc_len    0.283016   -0.136391  0.265861  1.000000"
      ]
     },
     "execution_count": 28,
     "metadata": {},
     "output_type": "execute_result"
    }
   ],
   "source": [
    "df[['age','avg_salary','Rating','desc_len']].corr()\n"
   ]
  },
  {
   "cell_type": "code",
   "execution_count": 29,
   "id": "4b51580a",
   "metadata": {},
   "outputs": [
    {
     "data": {
      "text/plain": [
       "<AxesSubplot:>"
      ]
     },
     "execution_count": 29,
     "metadata": {},
     "output_type": "execute_result"
    },
    {
     "data": {
      "image/png": "[encoded data removed]",
      "text/plain": [
       "<Figure size 432x288 with 2 Axes>"
      ]
     },
     "metadata": {
      "needs_background": "light"
     },
     "output_type": "display_data"
    }
   ],
   "source": [
    "cmap = sns.diverging_palette(220, 10, as_cmap=True)\n",
    "sns.heatmap(df[['age','avg_salary','Rating','desc_len']].corr(),vmax=.3, center=0, cmap=cmap,\n",
    "            square=True, linewidths=.5, cbar_kws={\"shrink\": .5})"
   ]
  },
  {
   "cell_type": "code",
   "execution_count": 30,
   "id": "26ea9a39",
   "metadata": {},
   "outputs": [
    {
     "data": {
      "text/plain": [
       "Index(['Job Title', 'Salary Estimate', 'Job Description', 'Rating',\n",
       "       'Company Name', 'Location', 'Size', 'Founded', 'Type of ownership',\n",
       "       'Industry', 'Sector', 'Revenue', 'hourly', 'employer_provided_salary',\n",
       "       'min_salary', 'max_salary', 'avg_salary', 'company_txt', 'job_state',\n",
       "       'age', 'python_yn', 'r_studio', 'spark', 'aws', 'excel', 'job_simp',\n",
       "       'seniority', 'desc_len'],\n",
       "      dtype='object')"
      ]
     },
     "execution_count": 30,
     "metadata": {},
     "output_type": "execute_result"
    }
   ],
   "source": [
    "df.columns\n"
   ]
  },
  {
   "cell_type": "code",
   "execution_count": 32,
   "id": "91440250",
   "metadata": {},
   "outputs": [],
   "source": [
    "df_cat = df[['Location', 'Size','Type of ownership', 'Industry', 'Sector', 'Revenue', 'company_txt', 'job_state', 'python_yn', 'r_studio',\n",
    "       'spark', 'aws', 'excel', 'job_simp', 'seniority']]"
   ]
  },
  {
   "cell_type": "code",
   "execution_count": 33,
   "id": "7c3379f2",
   "metadata": {},
   "outputs": [
    {
     "name": "stdout",
     "output_type": "stream",
     "text": [
      "graph for Location: total = 81\n"
     ]
    },
    {
     "data": {
      "image/png": "[encoded data removed]",
      "text/plain": [
       "<Figure size 432x288 with 1 Axes>"
      ]
     },
     "metadata": {
      "needs_background": "light"
     },
     "output_type": "display_data"
    },
    {
     "name": "stdout",
     "output_type": "stream",
     "text": [
      "graph for Size: total = 9\n"
     ]
    },
    {
     "data": {
      "image/png": "[encoded data removed]",
      "text/plain": [
       "<Figure size 432x288 with 1 Axes>"
      ]
     },
     "metadata": {
      "needs_background": "light"
     },
     "output_type": "display_data"
    },
    {
     "name": "stdout",
     "output_type": "stream",
     "text": [
      "graph for Type of ownership: total = 10\n"
     ]
    },
    {
     "data": {
      "image/png": "[encoded data removed]",
      "text/plain": [
       "<Figure size 432x288 with 1 Axes>"
      ]
     },
     "metadata": {
      "needs_background": "light"
     },
     "output_type": "display_data"
    },
    {
     "name": "stdout",
     "output_type": "stream",
     "text": [
      "graph for Industry: total = 40\n"
     ]
    },
    {
     "data": {
      "image/png": "[encoded data removed]",
      "text/plain": [
       "<Figure size 432x288 with 1 Axes>"
      ]
     },
     "metadata": {
      "needs_background": "light"
     },
     "output_type": "display_data"
    },
    {
     "name": "stdout",
     "output_type": "stream",
     "text": [
      "graph for Sector: total = 20\n"
     ]
    },
    {
     "data": {
      "image/png": "[encoded data removed]",
      "text/plain": [
       "<Figure size 432x288 with 1 Axes>"
      ]
     },
     "metadata": {
      "needs_background": "light"
     },
     "output_type": "display_data"
    },
    {
     "name": "stdout",
     "output_type": "stream",
     "text": [
      "graph for Revenue: total = 11\n"
     ]
    },
    {
     "data": {
      "image/png": "[encoded data removed]",
      "text/plain": [
       "<Figure size 432x288 with 1 Axes>"
      ]
     },
     "metadata": {
      "needs_background": "light"
     },
     "output_type": "display_data"
    },
    {
     "name": "stdout",
     "output_type": "stream",
     "text": [
      "graph for company_txt: total = 108\n"
     ]
    },
    {
     "data": {
      "image/png": "[encoded data removed]",
      "text/plain": [
       "<Figure size 432x288 with 1 Axes>"
      ]
     },
     "metadata": {
      "needs_background": "light"
     },
     "output_type": "display_data"
    },
    {
     "name": "stdout",
     "output_type": "stream",
     "text": [
      "graph for job_state: total = 30\n"
     ]
    },
    {
     "data": {
      "image/png": "[encoded data removed]",
      "text/plain": [
       "<Figure size 432x288 with 1 Axes>"
      ]
     },
     "metadata": {
      "needs_background": "light"
     },
     "output_type": "display_data"
    },
    {
     "name": "stdout",
     "output_type": "stream",
     "text": [
      "graph for python_yn: total = 2\n"
     ]
    },
    {
     "data": {
      "image/png": "[encoded data removed]",
      "text/plain": [
       "<Figure size 432x288 with 1 Axes>"
      ]
     },
     "metadata": {
      "needs_background": "light"
     },
     "output_type": "display_data"
    },
    {
     "name": "stdout",
     "output_type": "stream",
     "text": [
      "graph for r_studio: total = 1\n"
     ]
    },
    {
     "data": {
      "image/png": "[encoded data removed]",
      "text/plain": [
       "<Figure size 432x288 with 1 Axes>"
      ]
     },
     "metadata": {
      "needs_background": "light"
     },
     "output_type": "display_data"
    },
    {
     "name": "stdout",
     "output_type": "stream",
     "text": [
      "graph for spark: total = 2\n"
     ]
    },
    {
     "data": {
      "image/png": "[encoded data removed]",
      "text/plain": [
       "<Figure size 432x288 with 1 Axes>"
      ]
     },
     "metadata": {
      "needs_background": "light"
     },
     "output_type": "display_data"
    },
    {
     "name": "stdout",
     "output_type": "stream",
     "text": [
      "graph for aws: total = 2\n"
     ]
    },
    {
     "data": {
      "image/png": "[encoded data removed]",
      "text/plain": [
       "<Figure size 432x288 with 1 Axes>"
      ]
     },
     "metadata": {
      "needs_background": "light"
     },
     "output_type": "display_data"
    },
    {
     "name": "stdout",
     "output_type": "stream",
     "text": [
      "graph for excel: total = 2\n"
     ]
    },
    {
     "data": {
      "image/png": "[encoded data removed]",
      "text/plain": [
       "<Figure size 432x288 with 1 Axes>"
      ]
     },
     "metadata": {
      "needs_background": "light"
     },
     "output_type": "display_data"
    },
    {
     "name": "stdout",
     "output_type": "stream",
     "text": [
      "graph for job_simp: total = 7\n"
     ]
    },
    {
     "data": {
      "image/png": "[encoded data removed]",
      "text/plain": [
       "<Figure size 432x288 with 1 Axes>"
      ]
     },
     "metadata": {
      "needs_background": "light"
     },
     "output_type": "display_data"
    },
    {
     "name": "stdout",
     "output_type": "stream",
     "text": [
      "graph for seniority: total = 3\n"
     ]
    },
    {
     "data": {
      "image/png": "[encoded data removed]",
      "text/plain": [
       "<Figure size 432x288 with 1 Axes>"
      ]
     },
     "metadata": {
      "needs_background": "light"
     },
     "output_type": "display_data"
    }
   ],
   "source": [
    "for i in df_cat.columns:\n",
    "    cat_num = df_cat[i].value_counts()\n",
    "    print(\"graph for %s: total = %d\" % (i, len(cat_num)))\n",
    "    chart = sns.barplot(x=cat_num.index, y=cat_num)\n",
    "    chart.set_xticklabels(chart.get_xticklabels(), rotation=90)\n",
    "    plt.show()"
   ]
  },
  {
   "cell_type": "code",
   "execution_count": 35,
   "id": "ca02fd76",
   "metadata": {},
   "outputs": [
    {
     "name": "stdout",
     "output_type": "stream",
     "text": [
      "graph for Location: total = 20\n"
     ]
    },
    {
     "data": {
      "image/png": "[encoded data removed]",
      "text/plain": [
       "<Figure size 432x288 with 1 Axes>"
      ]
     },
     "metadata": {
      "needs_background": "light"
     },
     "output_type": "display_data"
    },
    {
     "name": "stdout",
     "output_type": "stream",
     "text": [
      "graph for company_txt: total = 20\n"
     ]
    },
    {
     "data": {
      "image/png": "[encoded data removed]",
      "text/plain": [
       "<Figure size 432x288 with 1 Axes>"
      ]
     },
     "metadata": {
      "needs_background": "light"
     },
     "output_type": "display_data"
    }
   ],
   "source": [
    "for i in df_cat[['Location','company_txt']].columns:\n",
    "    cat_num = df_cat[i].value_counts()[:20]\n",
    "    print(\"graph for %s: total = %d\" % (i, len(cat_num)))\n",
    "    chart = sns.barplot(x=cat_num.index, y=cat_num)\n",
    "    chart.set_xticklabels(chart.get_xticklabels(), rotation=90)\n",
    "    plt.show()"
   ]
  },
  {
   "cell_type": "code",
   "execution_count": 36,
   "id": "50ce5ba8",
   "metadata": {},
   "outputs": [
    {
     "data": {
      "text/html": [
       "<div>\n",
       "<style scoped>\n",
       "    .dataframe tbody tr th:only-of-type {\n",
       "        vertical-align: middle;\n",
       "    }\n",
       "\n",
       "    .dataframe tbody tr th {\n",
       "        vertical-align: top;\n",
       "    }\n",
       "\n",
       "    .dataframe thead th {\n",
       "        text-align: right;\n",
       "    }\n",
       "</style>\n",
       "<table border=\"1\" class=\"dataframe\">\n",
       "  <thead>\n",
       "    <tr style=\"text-align: right;\">\n",
       "      <th></th>\n",
       "      <th>avg_salary</th>\n",
       "    </tr>\n",
       "    <tr>\n",
       "      <th>job_simp</th>\n",
       "      <th></th>\n",
       "    </tr>\n",
       "  </thead>\n",
       "  <tbody>\n",
       "    <tr>\n",
       "      <th>analyst</th>\n",
       "      <td>99.108974</td>\n",
       "    </tr>\n",
       "    <tr>\n",
       "      <th>data engineer</th>\n",
       "      <td>90.500000</td>\n",
       "    </tr>\n",
       "    <tr>\n",
       "      <th>data scientist</th>\n",
       "      <td>129.820978</td>\n",
       "    </tr>\n",
       "    <tr>\n",
       "      <th>director</th>\n",
       "      <td>240.000000</td>\n",
       "    </tr>\n",
       "    <tr>\n",
       "      <th>manager</th>\n",
       "      <td>123.577586</td>\n",
       "    </tr>\n",
       "    <tr>\n",
       "      <th>mle</th>\n",
       "      <td>130.000000</td>\n",
       "    </tr>\n",
       "    <tr>\n",
       "      <th>na</th>\n",
       "      <td>98.689781</td>\n",
       "    </tr>\n",
       "  </tbody>\n",
       "</table>\n",
       "</div>"
      ],
      "text/plain": [
       "                avg_salary\n",
       "job_simp                  \n",
       "analyst          99.108974\n",
       "data engineer    90.500000\n",
       "data scientist  129.820978\n",
       "director        240.000000\n",
       "manager         123.577586\n",
       "mle             130.000000\n",
       "na               98.689781"
      ]
     },
     "execution_count": 36,
     "metadata": {},
     "output_type": "execute_result"
    }
   ],
   "source": [
    "pd.pivot_table(df, index = 'job_simp', values = 'avg_salary')"
   ]
  },
  {
   "cell_type": "code",
   "execution_count": 37,
   "id": "1a976167",
   "metadata": {},
   "outputs": [
    {
     "data": {
      "text/html": [
       "<div>\n",
       "<style scoped>\n",
       "    .dataframe tbody tr th:only-of-type {\n",
       "        vertical-align: middle;\n",
       "    }\n",
       "\n",
       "    .dataframe tbody tr th {\n",
       "        vertical-align: top;\n",
       "    }\n",
       "\n",
       "    .dataframe thead th {\n",
       "        text-align: right;\n",
       "    }\n",
       "</style>\n",
       "<table border=\"1\" class=\"dataframe\">\n",
       "  <thead>\n",
       "    <tr style=\"text-align: right;\">\n",
       "      <th></th>\n",
       "      <th></th>\n",
       "      <th>avg_salary</th>\n",
       "    </tr>\n",
       "    <tr>\n",
       "      <th>job_simp</th>\n",
       "      <th>seniority</th>\n",
       "      <th></th>\n",
       "    </tr>\n",
       "  </thead>\n",
       "  <tbody>\n",
       "    <tr>\n",
       "      <th>analyst</th>\n",
       "      <th>na</th>\n",
       "      <td>99.108974</td>\n",
       "    </tr>\n",
       "    <tr>\n",
       "      <th>data engineer</th>\n",
       "      <th>na</th>\n",
       "      <td>90.500000</td>\n",
       "    </tr>\n",
       "    <tr>\n",
       "      <th rowspan=\"3\" valign=\"top\">data scientist</th>\n",
       "      <th>jr</th>\n",
       "      <td>100.000000</td>\n",
       "    </tr>\n",
       "    <tr>\n",
       "      <th>na</th>\n",
       "      <td>117.955275</td>\n",
       "    </tr>\n",
       "    <tr>\n",
       "      <th>senior</th>\n",
       "      <td>156.233503</td>\n",
       "    </tr>\n",
       "    <tr>\n",
       "      <th>director</th>\n",
       "      <th>na</th>\n",
       "      <td>240.000000</td>\n",
       "    </tr>\n",
       "    <tr>\n",
       "      <th>manager</th>\n",
       "      <th>na</th>\n",
       "      <td>123.577586</td>\n",
       "    </tr>\n",
       "    <tr>\n",
       "      <th>mle</th>\n",
       "      <th>na</th>\n",
       "      <td>130.000000</td>\n",
       "    </tr>\n",
       "    <tr>\n",
       "      <th rowspan=\"2\" valign=\"top\">na</th>\n",
       "      <th>na</th>\n",
       "      <td>88.331325</td>\n",
       "    </tr>\n",
       "    <tr>\n",
       "      <th>senior</th>\n",
       "      <td>114.611111</td>\n",
       "    </tr>\n",
       "  </tbody>\n",
       "</table>\n",
       "</div>"
      ],
      "text/plain": [
       "                          avg_salary\n",
       "job_simp       seniority            \n",
       "analyst        na          99.108974\n",
       "data engineer  na          90.500000\n",
       "data scientist jr         100.000000\n",
       "               na         117.955275\n",
       "               senior     156.233503\n",
       "director       na         240.000000\n",
       "manager        na         123.577586\n",
       "mle            na         130.000000\n",
       "na             na          88.331325\n",
       "               senior     114.611111"
      ]
     },
     "execution_count": 37,
     "metadata": {},
     "output_type": "execute_result"
    }
   ],
   "source": [
    "pd.pivot_table(df, index = ['job_simp','seniority'], values = 'avg_salary')"
   ]
  },
  {
   "cell_type": "code",
   "execution_count": 38,
   "id": "3683a275",
   "metadata": {},
   "outputs": [
    {
     "data": {
      "text/html": [
       "<div>\n",
       "<style scoped>\n",
       "    .dataframe tbody tr th:only-of-type {\n",
       "        vertical-align: middle;\n",
       "    }\n",
       "\n",
       "    .dataframe tbody tr th {\n",
       "        vertical-align: top;\n",
       "    }\n",
       "\n",
       "    .dataframe thead th {\n",
       "        text-align: right;\n",
       "    }\n",
       "</style>\n",
       "<table border=\"1\" class=\"dataframe\">\n",
       "  <thead>\n",
       "    <tr style=\"text-align: right;\">\n",
       "      <th></th>\n",
       "      <th></th>\n",
       "      <th>avg_salary</th>\n",
       "    </tr>\n",
       "    <tr>\n",
       "      <th>job_state</th>\n",
       "      <th>job_simp</th>\n",
       "      <th></th>\n",
       "    </tr>\n",
       "  </thead>\n",
       "  <tbody>\n",
       "    <tr>\n",
       "      <th>WI</th>\n",
       "      <th>data scientist</th>\n",
       "      <td>53.318182</td>\n",
       "    </tr>\n",
       "    <tr>\n",
       "      <th>WA</th>\n",
       "      <th>data scientist</th>\n",
       "      <td>133.000000</td>\n",
       "    </tr>\n",
       "    <tr>\n",
       "      <th rowspan=\"2\" valign=\"top\">VA</th>\n",
       "      <th>na</th>\n",
       "      <td>119.481481</td>\n",
       "    </tr>\n",
       "    <tr>\n",
       "      <th>data scientist</th>\n",
       "      <td>159.091837</td>\n",
       "    </tr>\n",
       "    <tr>\n",
       "      <th>UT</th>\n",
       "      <th>data scientist</th>\n",
       "      <td>134.500000</td>\n",
       "    </tr>\n",
       "    <tr>\n",
       "      <th rowspan=\"3\" valign=\"top\">TX</th>\n",
       "      <th>na</th>\n",
       "      <td>101.000000</td>\n",
       "    </tr>\n",
       "    <tr>\n",
       "      <th>data scientist</th>\n",
       "      <td>112.071429</td>\n",
       "    </tr>\n",
       "    <tr>\n",
       "      <th>analyst</th>\n",
       "      <td>125.000000</td>\n",
       "    </tr>\n",
       "    <tr>\n",
       "      <th>SC</th>\n",
       "      <th>data scientist</th>\n",
       "      <td>107.000000</td>\n",
       "    </tr>\n",
       "    <tr>\n",
       "      <th rowspan=\"2\" valign=\"top\">PA</th>\n",
       "      <th>data scientist</th>\n",
       "      <td>109.060976</td>\n",
       "    </tr>\n",
       "    <tr>\n",
       "      <th>na</th>\n",
       "      <td>89.500000</td>\n",
       "    </tr>\n",
       "    <tr>\n",
       "      <th>OK</th>\n",
       "      <th>manager</th>\n",
       "      <td>102.500000</td>\n",
       "    </tr>\n",
       "    <tr>\n",
       "      <th rowspan=\"2\" valign=\"top\">OH</th>\n",
       "      <th>na</th>\n",
       "      <td>92.000000</td>\n",
       "    </tr>\n",
       "    <tr>\n",
       "      <th>data scientist</th>\n",
       "      <td>102.333333</td>\n",
       "    </tr>\n",
       "    <tr>\n",
       "      <th rowspan=\"3\" valign=\"top\">NY</th>\n",
       "      <th>na</th>\n",
       "      <td>21.000000</td>\n",
       "    </tr>\n",
       "    <tr>\n",
       "      <th>data scientist</th>\n",
       "      <td>190.833333</td>\n",
       "    </tr>\n",
       "    <tr>\n",
       "      <th>data engineer</th>\n",
       "      <td>90.500000</td>\n",
       "    </tr>\n",
       "    <tr>\n",
       "      <th rowspan=\"2\" valign=\"top\">NM</th>\n",
       "      <th>na</th>\n",
       "      <td>111.000000</td>\n",
       "    </tr>\n",
       "    <tr>\n",
       "      <th>data scientist</th>\n",
       "      <td>106.500000</td>\n",
       "    </tr>\n",
       "    <tr>\n",
       "      <th>NJ</th>\n",
       "      <th>data scientist</th>\n",
       "      <td>144.750000</td>\n",
       "    </tr>\n",
       "    <tr>\n",
       "      <th>NE</th>\n",
       "      <th>data scientist</th>\n",
       "      <td>190.000000</td>\n",
       "    </tr>\n",
       "    <tr>\n",
       "      <th>NC</th>\n",
       "      <th>data scientist</th>\n",
       "      <td>81.000000</td>\n",
       "    </tr>\n",
       "    <tr>\n",
       "      <th>MS</th>\n",
       "      <th>data scientist</th>\n",
       "      <td>86.000000</td>\n",
       "    </tr>\n",
       "    <tr>\n",
       "      <th>MO</th>\n",
       "      <th>data scientist</th>\n",
       "      <td>113.225000</td>\n",
       "    </tr>\n",
       "    <tr>\n",
       "      <th rowspan=\"2\" valign=\"top\">MI</th>\n",
       "      <th>data scientist</th>\n",
       "      <td>139.500000</td>\n",
       "    </tr>\n",
       "    <tr>\n",
       "      <th>analyst</th>\n",
       "      <td>51.500000</td>\n",
       "    </tr>\n",
       "    <tr>\n",
       "      <th>ME</th>\n",
       "      <th>data scientist</th>\n",
       "      <td>102.500000</td>\n",
       "    </tr>\n",
       "    <tr>\n",
       "      <th>MD</th>\n",
       "      <th>data scientist</th>\n",
       "      <td>144.379032</td>\n",
       "    </tr>\n",
       "    <tr>\n",
       "      <th rowspan=\"2\" valign=\"top\">MA</th>\n",
       "      <th>director</th>\n",
       "      <td>240.000000</td>\n",
       "    </tr>\n",
       "    <tr>\n",
       "      <th>data scientist</th>\n",
       "      <td>128.957143</td>\n",
       "    </tr>\n",
       "    <tr>\n",
       "      <th>KS</th>\n",
       "      <th>data scientist</th>\n",
       "      <td>117.500000</td>\n",
       "    </tr>\n",
       "    <tr>\n",
       "      <th>IN</th>\n",
       "      <th>data scientist</th>\n",
       "      <td>101.000000</td>\n",
       "    </tr>\n",
       "    <tr>\n",
       "      <th rowspan=\"2\" valign=\"top\">IL</th>\n",
       "      <th>data scientist</th>\n",
       "      <td>131.761905</td>\n",
       "    </tr>\n",
       "    <tr>\n",
       "      <th>analyst</th>\n",
       "      <td>75.000000</td>\n",
       "    </tr>\n",
       "    <tr>\n",
       "      <th rowspan=\"2\" valign=\"top\">GA</th>\n",
       "      <th>data scientist</th>\n",
       "      <td>126.250000</td>\n",
       "    </tr>\n",
       "    <tr>\n",
       "      <th>na</th>\n",
       "      <td>94.000000</td>\n",
       "    </tr>\n",
       "    <tr>\n",
       "      <th rowspan=\"3\" valign=\"top\">FL</th>\n",
       "      <th>data scientist</th>\n",
       "      <td>137.073529</td>\n",
       "    </tr>\n",
       "    <tr>\n",
       "      <th>analyst</th>\n",
       "      <td>90.500000</td>\n",
       "    </tr>\n",
       "    <tr>\n",
       "      <th>manager</th>\n",
       "      <td>92.500000</td>\n",
       "    </tr>\n",
       "    <tr>\n",
       "      <th rowspan=\"3\" valign=\"top\">DC</th>\n",
       "      <th>manager</th>\n",
       "      <td>145.000000</td>\n",
       "    </tr>\n",
       "    <tr>\n",
       "      <th>data scientist</th>\n",
       "      <td>153.735849</td>\n",
       "    </tr>\n",
       "    <tr>\n",
       "      <th>analyst</th>\n",
       "      <td>130.000000</td>\n",
       "    </tr>\n",
       "    <tr>\n",
       "      <th rowspan=\"2\" valign=\"top\">CT</th>\n",
       "      <th>na</th>\n",
       "      <td>62.500000</td>\n",
       "    </tr>\n",
       "    <tr>\n",
       "      <th>data scientist</th>\n",
       "      <td>126.000000</td>\n",
       "    </tr>\n",
       "    <tr>\n",
       "      <th rowspan=\"2\" valign=\"top\">CA</th>\n",
       "      <th>na</th>\n",
       "      <td>135.000000</td>\n",
       "    </tr>\n",
       "    <tr>\n",
       "      <th>data scientist</th>\n",
       "      <td>128.117647</td>\n",
       "    </tr>\n",
       "    <tr>\n",
       "      <th>AL</th>\n",
       "      <th>data scientist</th>\n",
       "      <td>132.666667</td>\n",
       "    </tr>\n",
       "    <tr>\n",
       "      <th rowspan=\"2\" valign=\"top\">-1</th>\n",
       "      <th>mle</th>\n",
       "      <td>130.000000</td>\n",
       "    </tr>\n",
       "    <tr>\n",
       "      <th>data scientist</th>\n",
       "      <td>107.007692</td>\n",
       "    </tr>\n",
       "  </tbody>\n",
       "</table>\n",
       "</div>"
      ],
      "text/plain": [
       "                          avg_salary\n",
       "job_state job_simp                  \n",
       "WI        data scientist   53.318182\n",
       "WA        data scientist  133.000000\n",
       "VA        na              119.481481\n",
       "          data scientist  159.091837\n",
       "UT        data scientist  134.500000\n",
       "TX        na              101.000000\n",
       "          data scientist  112.071429\n",
       "          analyst         125.000000\n",
       "SC        data scientist  107.000000\n",
       "PA        data scientist  109.060976\n",
       "          na               89.500000\n",
       "OK        manager         102.500000\n",
       "OH        na               92.000000\n",
       "          data scientist  102.333333\n",
       "NY        na               21.000000\n",
       "          data scientist  190.833333\n",
       "          data engineer    90.500000\n",
       "NM        na              111.000000\n",
       "          data scientist  106.500000\n",
       "NJ        data scientist  144.750000\n",
       "NE        data scientist  190.000000\n",
       "NC        data scientist   81.000000\n",
       "MS        data scientist   86.000000\n",
       "MO        data scientist  113.225000\n",
       "MI        data scientist  139.500000\n",
       "          analyst          51.500000\n",
       "ME        data scientist  102.500000\n",
       "MD        data scientist  144.379032\n",
       "MA        director        240.000000\n",
       "          data scientist  128.957143\n",
       "KS        data scientist  117.500000\n",
       "IN        data scientist  101.000000\n",
       "IL        data scientist  131.761905\n",
       "          analyst          75.000000\n",
       "GA        data scientist  126.250000\n",
       "          na               94.000000\n",
       "FL        data scientist  137.073529\n",
       "          analyst          90.500000\n",
       "          manager          92.500000\n",
       "DC        manager         145.000000\n",
       "          data scientist  153.735849\n",
       "          analyst         130.000000\n",
       "CT        na               62.500000\n",
       "          data scientist  126.000000\n",
       "CA        na              135.000000\n",
       "          data scientist  128.117647\n",
       "AL        data scientist  132.666667\n",
       "-1        mle             130.000000\n",
       "          data scientist  107.007692"
      ]
     },
     "execution_count": 38,
     "metadata": {},
     "output_type": "execute_result"
    }
   ],
   "source": [
    "pd.pivot_table(df, index = ['job_state','job_simp'], values = 'avg_salary').sort_values('job_state', ascending = False)\n"
   ]
  },
  {
   "cell_type": "code",
   "execution_count": 39,
   "id": "f7ac51b5",
   "metadata": {},
   "outputs": [],
   "source": [
    "pd.options.display.max_rows\n",
    "pd.set_option('display.max_rows', None)"
   ]
  },
  {
   "cell_type": "code",
   "execution_count": 40,
   "id": "58017fa7",
   "metadata": {},
   "outputs": [
    {
     "data": {
      "text/html": [
       "<div>\n",
       "<style scoped>\n",
       "    .dataframe tbody tr th:only-of-type {\n",
       "        vertical-align: middle;\n",
       "    }\n",
       "\n",
       "    .dataframe tbody tr th {\n",
       "        vertical-align: top;\n",
       "    }\n",
       "\n",
       "    .dataframe thead th {\n",
       "        text-align: right;\n",
       "    }\n",
       "</style>\n",
       "<table border=\"1\" class=\"dataframe\">\n",
       "  <thead>\n",
       "    <tr style=\"text-align: right;\">\n",
       "      <th></th>\n",
       "      <th></th>\n",
       "      <th>avg_salary</th>\n",
       "    </tr>\n",
       "    <tr>\n",
       "      <th>job_state</th>\n",
       "      <th>job_simp</th>\n",
       "      <th></th>\n",
       "    </tr>\n",
       "  </thead>\n",
       "  <tbody>\n",
       "    <tr>\n",
       "      <th>WI</th>\n",
       "      <th>data scientist</th>\n",
       "      <td>11</td>\n",
       "    </tr>\n",
       "    <tr>\n",
       "      <th>WA</th>\n",
       "      <th>data scientist</th>\n",
       "      <td>1</td>\n",
       "    </tr>\n",
       "    <tr>\n",
       "      <th rowspan=\"2\" valign=\"top\">VA</th>\n",
       "      <th>na</th>\n",
       "      <td>27</td>\n",
       "    </tr>\n",
       "    <tr>\n",
       "      <th>data scientist</th>\n",
       "      <td>49</td>\n",
       "    </tr>\n",
       "    <tr>\n",
       "      <th>UT</th>\n",
       "      <th>data scientist</th>\n",
       "      <td>1</td>\n",
       "    </tr>\n",
       "    <tr>\n",
       "      <th rowspan=\"3\" valign=\"top\">TX</th>\n",
       "      <th>na</th>\n",
       "      <td>29</td>\n",
       "    </tr>\n",
       "    <tr>\n",
       "      <th>data scientist</th>\n",
       "      <td>14</td>\n",
       "    </tr>\n",
       "    <tr>\n",
       "      <th>analyst</th>\n",
       "      <td>3</td>\n",
       "    </tr>\n",
       "    <tr>\n",
       "      <th>SC</th>\n",
       "      <th>data scientist</th>\n",
       "      <td>3</td>\n",
       "    </tr>\n",
       "    <tr>\n",
       "      <th rowspan=\"2\" valign=\"top\">PA</th>\n",
       "      <th>data scientist</th>\n",
       "      <td>82</td>\n",
       "    </tr>\n",
       "    <tr>\n",
       "      <th>na</th>\n",
       "      <td>1</td>\n",
       "    </tr>\n",
       "    <tr>\n",
       "      <th>OK</th>\n",
       "      <th>manager</th>\n",
       "      <td>28</td>\n",
       "    </tr>\n",
       "    <tr>\n",
       "      <th rowspan=\"2\" valign=\"top\">OH</th>\n",
       "      <th>na</th>\n",
       "      <td>29</td>\n",
       "    </tr>\n",
       "    <tr>\n",
       "      <th>data scientist</th>\n",
       "      <td>6</td>\n",
       "    </tr>\n",
       "    <tr>\n",
       "      <th rowspan=\"3\" valign=\"top\">NY</th>\n",
       "      <th>na</th>\n",
       "      <td>1</td>\n",
       "    </tr>\n",
       "    <tr>\n",
       "      <th>data scientist</th>\n",
       "      <td>6</td>\n",
       "    </tr>\n",
       "    <tr>\n",
       "      <th>data engineer</th>\n",
       "      <td>1</td>\n",
       "    </tr>\n",
       "    <tr>\n",
       "      <th rowspan=\"2\" valign=\"top\">NM</th>\n",
       "      <th>na</th>\n",
       "      <td>28</td>\n",
       "    </tr>\n",
       "    <tr>\n",
       "      <th>data scientist</th>\n",
       "      <td>15</td>\n",
       "    </tr>\n",
       "    <tr>\n",
       "      <th>NJ</th>\n",
       "      <th>data scientist</th>\n",
       "      <td>2</td>\n",
       "    </tr>\n",
       "    <tr>\n",
       "      <th>NE</th>\n",
       "      <th>data scientist</th>\n",
       "      <td>2</td>\n",
       "    </tr>\n",
       "    <tr>\n",
       "      <th>NC</th>\n",
       "      <th>data scientist</th>\n",
       "      <td>2</td>\n",
       "    </tr>\n",
       "    <tr>\n",
       "      <th>MS</th>\n",
       "      <th>data scientist</th>\n",
       "      <td>1</td>\n",
       "    </tr>\n",
       "    <tr>\n",
       "      <th>MO</th>\n",
       "      <th>data scientist</th>\n",
       "      <td>20</td>\n",
       "    </tr>\n",
       "    <tr>\n",
       "      <th rowspan=\"2\" valign=\"top\">MI</th>\n",
       "      <th>data scientist</th>\n",
       "      <td>1</td>\n",
       "    </tr>\n",
       "    <tr>\n",
       "      <th>analyst</th>\n",
       "      <td>1</td>\n",
       "    </tr>\n",
       "    <tr>\n",
       "      <th>ME</th>\n",
       "      <th>data scientist</th>\n",
       "      <td>1</td>\n",
       "    </tr>\n",
       "    <tr>\n",
       "      <th>MD</th>\n",
       "      <th>data scientist</th>\n",
       "      <td>62</td>\n",
       "    </tr>\n",
       "    <tr>\n",
       "      <th rowspan=\"2\" valign=\"top\">MA</th>\n",
       "      <th>director</th>\n",
       "      <td>29</td>\n",
       "    </tr>\n",
       "    <tr>\n",
       "      <th>data scientist</th>\n",
       "      <td>35</td>\n",
       "    </tr>\n",
       "    <tr>\n",
       "      <th>KS</th>\n",
       "      <th>data scientist</th>\n",
       "      <td>7</td>\n",
       "    </tr>\n",
       "    <tr>\n",
       "      <th>IN</th>\n",
       "      <th>data scientist</th>\n",
       "      <td>2</td>\n",
       "    </tr>\n",
       "    <tr>\n",
       "      <th rowspan=\"2\" valign=\"top\">IL</th>\n",
       "      <th>data scientist</th>\n",
       "      <td>21</td>\n",
       "    </tr>\n",
       "    <tr>\n",
       "      <th>analyst</th>\n",
       "      <td>22</td>\n",
       "    </tr>\n",
       "    <tr>\n",
       "      <th rowspan=\"2\" valign=\"top\">GA</th>\n",
       "      <th>data scientist</th>\n",
       "      <td>4</td>\n",
       "    </tr>\n",
       "    <tr>\n",
       "      <th>na</th>\n",
       "      <td>1</td>\n",
       "    </tr>\n",
       "    <tr>\n",
       "      <th rowspan=\"3\" valign=\"top\">FL</th>\n",
       "      <th>data scientist</th>\n",
       "      <td>34</td>\n",
       "    </tr>\n",
       "    <tr>\n",
       "      <th>analyst</th>\n",
       "      <td>28</td>\n",
       "    </tr>\n",
       "    <tr>\n",
       "      <th>manager</th>\n",
       "      <td>1</td>\n",
       "    </tr>\n",
       "    <tr>\n",
       "      <th rowspan=\"3\" valign=\"top\">DC</th>\n",
       "      <th>manager</th>\n",
       "      <td>29</td>\n",
       "    </tr>\n",
       "    <tr>\n",
       "      <th>data scientist</th>\n",
       "      <td>106</td>\n",
       "    </tr>\n",
       "    <tr>\n",
       "      <th>analyst</th>\n",
       "      <td>24</td>\n",
       "    </tr>\n",
       "    <tr>\n",
       "      <th rowspan=\"2\" valign=\"top\">CT</th>\n",
       "      <th>na</th>\n",
       "      <td>20</td>\n",
       "    </tr>\n",
       "    <tr>\n",
       "      <th>data scientist</th>\n",
       "      <td>10</td>\n",
       "    </tr>\n",
       "    <tr>\n",
       "      <th rowspan=\"2\" valign=\"top\">CA</th>\n",
       "      <th>na</th>\n",
       "      <td>1</td>\n",
       "    </tr>\n",
       "    <tr>\n",
       "      <th>data scientist</th>\n",
       "      <td>68</td>\n",
       "    </tr>\n",
       "    <tr>\n",
       "      <th>AL</th>\n",
       "      <th>data scientist</th>\n",
       "      <td>3</td>\n",
       "    </tr>\n",
       "    <tr>\n",
       "      <th rowspan=\"2\" valign=\"top\">-1</th>\n",
       "      <th>mle</th>\n",
       "      <td>1</td>\n",
       "    </tr>\n",
       "    <tr>\n",
       "      <th>data scientist</th>\n",
       "      <td>65</td>\n",
       "    </tr>\n",
       "  </tbody>\n",
       "</table>\n",
       "</div>"
      ],
      "text/plain": [
       "                          avg_salary\n",
       "job_state job_simp                  \n",
       "WI        data scientist          11\n",
       "WA        data scientist           1\n",
       "VA        na                      27\n",
       "          data scientist          49\n",
       "UT        data scientist           1\n",
       "TX        na                      29\n",
       "          data scientist          14\n",
       "          analyst                  3\n",
       "SC        data scientist           3\n",
       "PA        data scientist          82\n",
       "          na                       1\n",
       "OK        manager                 28\n",
       "OH        na                      29\n",
       "          data scientist           6\n",
       "NY        na                       1\n",
       "          data scientist           6\n",
       "          data engineer            1\n",
       "NM        na                      28\n",
       "          data scientist          15\n",
       "NJ        data scientist           2\n",
       "NE        data scientist           2\n",
       "NC        data scientist           2\n",
       "MS        data scientist           1\n",
       "MO        data scientist          20\n",
       "MI        data scientist           1\n",
       "          analyst                  1\n",
       "ME        data scientist           1\n",
       "MD        data scientist          62\n",
       "MA        director                29\n",
       "          data scientist          35\n",
       "KS        data scientist           7\n",
       "IN        data scientist           2\n",
       "IL        data scientist          21\n",
       "          analyst                 22\n",
       "GA        data scientist           4\n",
       "          na                       1\n",
       "FL        data scientist          34\n",
       "          analyst                 28\n",
       "          manager                  1\n",
       "DC        manager                 29\n",
       "          data scientist         106\n",
       "          analyst                 24\n",
       "CT        na                      20\n",
       "          data scientist          10\n",
       "CA        na                       1\n",
       "          data scientist          68\n",
       "AL        data scientist           3\n",
       "-1        mle                      1\n",
       "          data scientist          65"
      ]
     },
     "execution_count": 40,
     "metadata": {},
     "output_type": "execute_result"
    }
   ],
   "source": [
    "pd.pivot_table(df, index = ['job_state','job_simp'], values = 'avg_salary', aggfunc = 'count').sort_values('job_state', ascending = False)"
   ]
  },
  {
   "cell_type": "code",
   "execution_count": 41,
   "id": "3589306b",
   "metadata": {},
   "outputs": [
    {
     "data": {
      "text/html": [
       "<div>\n",
       "<style scoped>\n",
       "    .dataframe tbody tr th:only-of-type {\n",
       "        vertical-align: middle;\n",
       "    }\n",
       "\n",
       "    .dataframe tbody tr th {\n",
       "        vertical-align: top;\n",
       "    }\n",
       "\n",
       "    .dataframe thead th {\n",
       "        text-align: right;\n",
       "    }\n",
       "</style>\n",
       "<table border=\"1\" class=\"dataframe\">\n",
       "  <thead>\n",
       "    <tr style=\"text-align: right;\">\n",
       "      <th></th>\n",
       "      <th>avg_salary</th>\n",
       "    </tr>\n",
       "    <tr>\n",
       "      <th>job_state</th>\n",
       "      <th></th>\n",
       "    </tr>\n",
       "  </thead>\n",
       "  <tbody>\n",
       "    <tr>\n",
       "      <th>NY</th>\n",
       "      <td>190.833333</td>\n",
       "    </tr>\n",
       "    <tr>\n",
       "      <th>NE</th>\n",
       "      <td>190.000000</td>\n",
       "    </tr>\n",
       "    <tr>\n",
       "      <th>VA</th>\n",
       "      <td>159.091837</td>\n",
       "    </tr>\n",
       "    <tr>\n",
       "      <th>DC</th>\n",
       "      <td>153.735849</td>\n",
       "    </tr>\n",
       "    <tr>\n",
       "      <th>NJ</th>\n",
       "      <td>144.750000</td>\n",
       "    </tr>\n",
       "    <tr>\n",
       "      <th>MD</th>\n",
       "      <td>144.379032</td>\n",
       "    </tr>\n",
       "    <tr>\n",
       "      <th>MI</th>\n",
       "      <td>139.500000</td>\n",
       "    </tr>\n",
       "    <tr>\n",
       "      <th>FL</th>\n",
       "      <td>137.073529</td>\n",
       "    </tr>\n",
       "    <tr>\n",
       "      <th>UT</th>\n",
       "      <td>134.500000</td>\n",
       "    </tr>\n",
       "    <tr>\n",
       "      <th>WA</th>\n",
       "      <td>133.000000</td>\n",
       "    </tr>\n",
       "    <tr>\n",
       "      <th>AL</th>\n",
       "      <td>132.666667</td>\n",
       "    </tr>\n",
       "    <tr>\n",
       "      <th>IL</th>\n",
       "      <td>131.761905</td>\n",
       "    </tr>\n",
       "    <tr>\n",
       "      <th>MA</th>\n",
       "      <td>128.957143</td>\n",
       "    </tr>\n",
       "    <tr>\n",
       "      <th>CA</th>\n",
       "      <td>128.117647</td>\n",
       "    </tr>\n",
       "    <tr>\n",
       "      <th>GA</th>\n",
       "      <td>126.250000</td>\n",
       "    </tr>\n",
       "    <tr>\n",
       "      <th>CT</th>\n",
       "      <td>126.000000</td>\n",
       "    </tr>\n",
       "    <tr>\n",
       "      <th>KS</th>\n",
       "      <td>117.500000</td>\n",
       "    </tr>\n",
       "    <tr>\n",
       "      <th>MO</th>\n",
       "      <td>113.225000</td>\n",
       "    </tr>\n",
       "    <tr>\n",
       "      <th>TX</th>\n",
       "      <td>112.071429</td>\n",
       "    </tr>\n",
       "    <tr>\n",
       "      <th>PA</th>\n",
       "      <td>109.060976</td>\n",
       "    </tr>\n",
       "    <tr>\n",
       "      <th>-1</th>\n",
       "      <td>107.007692</td>\n",
       "    </tr>\n",
       "    <tr>\n",
       "      <th>SC</th>\n",
       "      <td>107.000000</td>\n",
       "    </tr>\n",
       "    <tr>\n",
       "      <th>NM</th>\n",
       "      <td>106.500000</td>\n",
       "    </tr>\n",
       "    <tr>\n",
       "      <th>ME</th>\n",
       "      <td>102.500000</td>\n",
       "    </tr>\n",
       "    <tr>\n",
       "      <th>OH</th>\n",
       "      <td>102.333333</td>\n",
       "    </tr>\n",
       "    <tr>\n",
       "      <th>IN</th>\n",
       "      <td>101.000000</td>\n",
       "    </tr>\n",
       "    <tr>\n",
       "      <th>MS</th>\n",
       "      <td>86.000000</td>\n",
       "    </tr>\n",
       "    <tr>\n",
       "      <th>NC</th>\n",
       "      <td>81.000000</td>\n",
       "    </tr>\n",
       "    <tr>\n",
       "      <th>WI</th>\n",
       "      <td>53.318182</td>\n",
       "    </tr>\n",
       "  </tbody>\n",
       "</table>\n",
       "</div>"
      ],
      "text/plain": [
       "           avg_salary\n",
       "job_state            \n",
       "NY         190.833333\n",
       "NE         190.000000\n",
       "VA         159.091837\n",
       "DC         153.735849\n",
       "NJ         144.750000\n",
       "MD         144.379032\n",
       "MI         139.500000\n",
       "FL         137.073529\n",
       "UT         134.500000\n",
       "WA         133.000000\n",
       "AL         132.666667\n",
       "IL         131.761905\n",
       "MA         128.957143\n",
       "CA         128.117647\n",
       "GA         126.250000\n",
       "CT         126.000000\n",
       "KS         117.500000\n",
       "MO         113.225000\n",
       "TX         112.071429\n",
       "PA         109.060976\n",
       "-1         107.007692\n",
       "SC         107.000000\n",
       "NM         106.500000\n",
       "ME         102.500000\n",
       "OH         102.333333\n",
       "IN         101.000000\n",
       "MS          86.000000\n",
       "NC          81.000000\n",
       "WI          53.318182"
      ]
     },
     "execution_count": 41,
     "metadata": {},
     "output_type": "execute_result"
    }
   ],
   "source": [
    "pd.pivot_table(df[df.job_simp == 'data scientist'], index = 'job_state', values = 'avg_salary').sort_values('avg_salary', ascending = False)"
   ]
  },
  {
   "cell_type": "code",
   "execution_count": 42,
   "id": "4ab64bd8",
   "metadata": {},
   "outputs": [
    {
     "data": {
      "text/plain": [
       "Index(['Job Title', 'Salary Estimate', 'Job Description', 'Rating',\n",
       "       'Company Name', 'Location', 'Size', 'Founded', 'Type of ownership',\n",
       "       'Industry', 'Sector', 'Revenue', 'hourly', 'employer_provided_salary',\n",
       "       'min_salary', 'max_salary', 'avg_salary', 'company_txt', 'job_state',\n",
       "       'age', 'python_yn', 'r_studio', 'spark', 'aws', 'excel', 'job_simp',\n",
       "       'seniority', 'desc_len'],\n",
       "      dtype='object')"
      ]
     },
     "execution_count": 42,
     "metadata": {},
     "output_type": "execute_result"
    }
   ],
   "source": [
    "df.columns"
   ]
  },
  {
   "cell_type": "code",
   "execution_count": 44,
   "id": "672d0f43",
   "metadata": {},
   "outputs": [],
   "source": [
    "df_pivots = df[['Rating', 'Industry', 'Sector', 'Revenue','hourly', 'employer_provided_salary', 'python_yn', 'r_studio', 'spark', 'aws', 'excel', 'Type of ownership','avg_salary']]\n"
   ]
  },
  {
   "cell_type": "code",
   "execution_count": 45,
   "id": "c48e889b",
   "metadata": {},
   "outputs": [
    {
     "name": "stdout",
     "output_type": "stream",
     "text": [
      "Rating\n",
      "        avg_salary\n",
      "Rating            \n",
      " 4.8    183.750000\n",
      " 4.0    179.298507\n",
      " 3.1    172.500000\n",
      " 4.1    146.645833\n",
      " 4.5    141.287879\n",
      " 2.8    134.500000\n",
      " 4.4    133.333333\n",
      " 3.7    132.815534\n",
      " 5.0    130.000000\n",
      " 3.2    129.500000\n",
      "-1.0    126.248705\n",
      " 3.4    122.600000\n",
      " 3.9    120.185393\n",
      " 4.2    117.051724\n",
      " 3.6    108.833333\n",
      " 3.5     99.128571\n",
      " 3.8     91.809524\n",
      " 4.6     76.500000\n",
      " 4.3     74.609375\n",
      " 3.3     45.000000\n",
      "Industry\n",
      "                                          avg_salary\n",
      "Industry                                            \n",
      "Enterprise Software & Network Solutions   193.083333\n",
      "Energy & Utilities                        177.000000\n",
      "Film Production                           174.500000\n",
      "Aerospace & Defense                       144.354839\n",
      "Banking & Lending                         144.200000\n",
      "Investment & Asset Management             143.400000\n",
      "Computer Hardware Development             136.047619\n",
      "-1                                        135.864045\n",
      "Biotech & Pharmaceuticals                 135.750000\n",
      "Information Technology Support Services   135.631579\n",
      "Video Game Publishing                     135.000000\n",
      "Consumer Electronics & Appliances Stores  134.500000\n",
      "Telecommunications Services               134.500000\n",
      "Drug & Health Stores                      133.916667\n",
      "General Merchandise & Superstores         133.000000\n",
      "Shipping & Trucking                       132.500000\n",
      "Health Care Services & Hospitals          126.538462\n",
      "Insurance Agencies & Brokerages           126.500000\n",
      "Other Retail Stores                       121.000000\n",
      "Financial Transaction Processing          118.388889\n",
      "Consumer Product Manufacturing            118.000000\n",
      "National Agencies                         116.535714\n",
      "HR Consulting                             113.526786\n",
      "Civic & Social Services                   109.556818\n",
      "Insurance Carriers                        107.333333\n",
      "Food & Beverage Manufacturing             105.500000\n",
      "Advertising & Public Relations            103.500000\n",
      "Colleges & Universities                    99.203125\n",
      "Internet & Web Services                    98.000000\n",
      "Research & Development                     94.296875\n",
      "Transportation Equipment Manufacturing     94.000000\n",
      "Business Consulting                        93.875000\n",
      "Machinery Manufacturing                    92.700000\n",
      "Hotels & Resorts                           87.000000\n",
      "Software Development                       85.000000\n",
      "Architectural & Engineering Services       78.000000\n",
      "Construction                               75.000000\n",
      "Staffing & Subcontracting                  56.500000\n",
      "Taxi & Car Services                        45.000000\n",
      "State & Regional Agencies                  42.500000\n",
      "Sector\n",
      "                                             avg_salary\n",
      "Sector                                                 \n",
      "Energy, Mining & Utilities                   177.000000\n",
      "Media & Communication                        170.816667\n",
      "Aerospace & Defense                          144.354839\n",
      "Information Technology                       138.744318\n",
      "-1                                           135.864045\n",
      "Pharmaceutical & Biotechnology               135.750000\n",
      "Telecommunications                           134.500000\n",
      "Financial Services                           134.187500\n",
      "Retail & Wholesale                           133.285714\n",
      "Healthcare                                   126.538462\n",
      "Insurance                                    115.000000\n",
      "Nonprofit & NGO                              109.556818\n",
      "Education                                     99.203125\n",
      "Government & Public Administration            98.527027\n",
      "Manufacturing                                 98.500000\n",
      "Human Resources & Staffing                    95.925926\n",
      "Management & Consulting                       94.212500\n",
      "Hotels & Travel Accommodation                 87.000000\n",
      "Transportation & Logistics                    77.812500\n",
      "Construction, Repair & Maintenance Services   75.130435\n",
      "Revenue\n",
      "                                  avg_salary\n",
      "Revenue                                     \n",
      "$10+ billion (USD)                147.719697\n",
      "$5 to $25 million (USD)           143.467742\n",
      "Unknown / Non-Applicable          140.300885\n",
      "$5 to $10 billion (USD)           134.035714\n",
      "-1                                126.808333\n",
      "$25 to $100 million (USD)         123.931507\n",
      "$1 to $5 million (USD)            105.166667\n",
      "$1 to $5 billion (USD)            104.144737\n",
      "$500 million to $1 billion (USD)   93.226415\n",
      "Less than $1 million (USD)         89.500000\n",
      "$100 to $500 million (USD)         83.869863\n",
      "hourly\n",
      "        avg_salary\n",
      "hourly            \n",
      "0       125.698827\n",
      "employer_provided_salary\n",
      "                          avg_salary\n",
      "employer_provided_salary            \n",
      "0                         125.698827\n",
      "python_yn\n",
      "           avg_salary\n",
      "python_yn            \n",
      "0          130.455844\n",
      "1          103.895833\n",
      "r_studio\n",
      "          avg_salary\n",
      "r_studio            \n",
      "0         125.698827\n",
      "spark\n",
      "       avg_salary\n",
      "spark            \n",
      "0      128.697022\n",
      "1       85.430769\n",
      "aws\n",
      "     avg_salary\n",
      "aws            \n",
      "0    129.284971\n",
      "1     83.205479\n",
      "excel\n",
      "       avg_salary\n",
      "excel            \n",
      "0      131.931011\n",
      "1      103.553398\n",
      "Type of ownership\n",
      "                                avg_salary\n",
      "Type of ownership                         \n",
      "Company - Public                167.921053\n",
      "Subsidiary or Business Segment  162.050000\n",
      "Contract                        160.000000\n",
      "Self-employed                   146.625000\n",
      "-1                              126.808333\n",
      "Nonprofit Organization          116.500000\n",
      "Company - Private               112.533333\n",
      "Government                       99.796296\n",
      "College / University             99.203125\n",
      "Hospital                         99.000000\n",
      "avg_salary\n"
     ]
    },
    {
     "ename": "ValueError",
     "evalue": "Grouper for 'avg_salary' not 1-dimensional",
     "output_type": "error",
     "traceback": [
      "\u001b[1;31m---------------------------------------------------------------------------\u001b[0m",
      "\u001b[1;31mValueError\u001b[0m                                Traceback (most recent call last)",
      "\u001b[1;32mC:\\Users\\RAHULP~1\\AppData\\Local\\Temp/ipykernel_5004/1427073795.py\u001b[0m in \u001b[0;36m<module>\u001b[1;34m\u001b[0m\n\u001b[0;32m      1\u001b[0m \u001b[1;32mfor\u001b[0m \u001b[0mi\u001b[0m \u001b[1;32min\u001b[0m \u001b[0mdf_pivots\u001b[0m\u001b[1;33m.\u001b[0m\u001b[0mcolumns\u001b[0m\u001b[1;33m:\u001b[0m\u001b[1;33m\u001b[0m\u001b[1;33m\u001b[0m\u001b[0m\n\u001b[0;32m      2\u001b[0m     \u001b[0mprint\u001b[0m\u001b[1;33m(\u001b[0m\u001b[0mi\u001b[0m\u001b[1;33m)\u001b[0m\u001b[1;33m\u001b[0m\u001b[1;33m\u001b[0m\u001b[0m\n\u001b[1;32m----> 3\u001b[1;33m     \u001b[0mprint\u001b[0m\u001b[1;33m(\u001b[0m\u001b[0mpd\u001b[0m\u001b[1;33m.\u001b[0m\u001b[0mpivot_table\u001b[0m\u001b[1;33m(\u001b[0m\u001b[0mdf_pivots\u001b[0m\u001b[1;33m,\u001b[0m\u001b[0mindex\u001b[0m \u001b[1;33m=\u001b[0m\u001b[0mi\u001b[0m\u001b[1;33m,\u001b[0m \u001b[0mvalues\u001b[0m \u001b[1;33m=\u001b[0m \u001b[1;34m'avg_salary'\u001b[0m\u001b[1;33m)\u001b[0m\u001b[1;33m.\u001b[0m\u001b[0msort_values\u001b[0m\u001b[1;33m(\u001b[0m\u001b[1;34m'avg_salary'\u001b[0m\u001b[1;33m,\u001b[0m \u001b[0mascending\u001b[0m \u001b[1;33m=\u001b[0m \u001b[1;32mFalse\u001b[0m\u001b[1;33m)\u001b[0m\u001b[1;33m)\u001b[0m\u001b[1;33m\u001b[0m\u001b[1;33m\u001b[0m\u001b[0m\n\u001b[0m",
      "\u001b[1;32mc:\\users\\rahul parande\\appdata\\local\\programs\\python\\python39\\lib\\site-packages\\pandas\\core\\reshape\\pivot.py\u001b[0m in \u001b[0;36mpivot_table\u001b[1;34m(data, values, index, columns, aggfunc, fill_value, margins, dropna, margins_name, observed, sort)\u001b[0m\n\u001b[0;32m     93\u001b[0m         \u001b[1;32mreturn\u001b[0m \u001b[0mtable\u001b[0m\u001b[1;33m.\u001b[0m\u001b[0m__finalize__\u001b[0m\u001b[1;33m(\u001b[0m\u001b[0mdata\u001b[0m\u001b[1;33m,\u001b[0m \u001b[0mmethod\u001b[0m\u001b[1;33m=\u001b[0m\u001b[1;34m\"pivot_table\"\u001b[0m\u001b[1;33m)\u001b[0m\u001b[1;33m\u001b[0m\u001b[1;33m\u001b[0m\u001b[0m\n\u001b[0;32m     94\u001b[0m \u001b[1;33m\u001b[0m\u001b[0m\n\u001b[1;32m---> 95\u001b[1;33m     table = __internal_pivot_table(\n\u001b[0m\u001b[0;32m     96\u001b[0m         \u001b[0mdata\u001b[0m\u001b[1;33m,\u001b[0m\u001b[1;33m\u001b[0m\u001b[1;33m\u001b[0m\u001b[0m\n\u001b[0;32m     97\u001b[0m         \u001b[0mvalues\u001b[0m\u001b[1;33m,\u001b[0m\u001b[1;33m\u001b[0m\u001b[1;33m\u001b[0m\u001b[0m\n",
      "\u001b[1;32mc:\\users\\rahul parande\\appdata\\local\\programs\\python\\python39\\lib\\site-packages\\pandas\\core\\reshape\\pivot.py\u001b[0m in \u001b[0;36m__internal_pivot_table\u001b[1;34m(data, values, index, columns, aggfunc, fill_value, margins, dropna, margins_name, observed, sort)\u001b[0m\n\u001b[0;32m    162\u001b[0m         \u001b[0mvalues\u001b[0m \u001b[1;33m=\u001b[0m \u001b[0mlist\u001b[0m\u001b[1;33m(\u001b[0m\u001b[0mvalues\u001b[0m\u001b[1;33m)\u001b[0m\u001b[1;33m\u001b[0m\u001b[1;33m\u001b[0m\u001b[0m\n\u001b[0;32m    163\u001b[0m \u001b[1;33m\u001b[0m\u001b[0m\n\u001b[1;32m--> 164\u001b[1;33m     \u001b[0mgrouped\u001b[0m \u001b[1;33m=\u001b[0m \u001b[0mdata\u001b[0m\u001b[1;33m.\u001b[0m\u001b[0mgroupby\u001b[0m\u001b[1;33m(\u001b[0m\u001b[0mkeys\u001b[0m\u001b[1;33m,\u001b[0m \u001b[0mobserved\u001b[0m\u001b[1;33m=\u001b[0m\u001b[0mobserved\u001b[0m\u001b[1;33m,\u001b[0m \u001b[0msort\u001b[0m\u001b[1;33m=\u001b[0m\u001b[0msort\u001b[0m\u001b[1;33m)\u001b[0m\u001b[1;33m\u001b[0m\u001b[1;33m\u001b[0m\u001b[0m\n\u001b[0m\u001b[0;32m    165\u001b[0m     \u001b[0magged\u001b[0m \u001b[1;33m=\u001b[0m \u001b[0mgrouped\u001b[0m\u001b[1;33m.\u001b[0m\u001b[0magg\u001b[0m\u001b[1;33m(\u001b[0m\u001b[0maggfunc\u001b[0m\u001b[1;33m)\u001b[0m\u001b[1;33m\u001b[0m\u001b[1;33m\u001b[0m\u001b[0m\n\u001b[0;32m    166\u001b[0m     \u001b[1;32mif\u001b[0m \u001b[0mdropna\u001b[0m \u001b[1;32mand\u001b[0m \u001b[0misinstance\u001b[0m\u001b[1;33m(\u001b[0m\u001b[0magged\u001b[0m\u001b[1;33m,\u001b[0m \u001b[0mABCDataFrame\u001b[0m\u001b[1;33m)\u001b[0m \u001b[1;32mand\u001b[0m \u001b[0mlen\u001b[0m\u001b[1;33m(\u001b[0m\u001b[0magged\u001b[0m\u001b[1;33m.\u001b[0m\u001b[0mcolumns\u001b[0m\u001b[1;33m)\u001b[0m\u001b[1;33m:\u001b[0m\u001b[1;33m\u001b[0m\u001b[1;33m\u001b[0m\u001b[0m\n",
      "\u001b[1;32mc:\\users\\rahul parande\\appdata\\local\\programs\\python\\python39\\lib\\site-packages\\pandas\\core\\frame.py\u001b[0m in \u001b[0;36mgroupby\u001b[1;34m(self, by, axis, level, as_index, sort, group_keys, squeeze, observed, dropna)\u001b[0m\n\u001b[0;32m   7704\u001b[0m         \u001b[1;31m# error: Argument \"squeeze\" to \"DataFrameGroupBy\" has incompatible type\u001b[0m\u001b[1;33m\u001b[0m\u001b[1;33m\u001b[0m\u001b[1;33m\u001b[0m\u001b[0m\n\u001b[0;32m   7705\u001b[0m         \u001b[1;31m# \"Union[bool, NoDefault]\"; expected \"bool\"\u001b[0m\u001b[1;33m\u001b[0m\u001b[1;33m\u001b[0m\u001b[1;33m\u001b[0m\u001b[0m\n\u001b[1;32m-> 7706\u001b[1;33m         return DataFrameGroupBy(\n\u001b[0m\u001b[0;32m   7707\u001b[0m             \u001b[0mobj\u001b[0m\u001b[1;33m=\u001b[0m\u001b[0mself\u001b[0m\u001b[1;33m,\u001b[0m\u001b[1;33m\u001b[0m\u001b[1;33m\u001b[0m\u001b[0m\n\u001b[0;32m   7708\u001b[0m             \u001b[0mkeys\u001b[0m\u001b[1;33m=\u001b[0m\u001b[0mby\u001b[0m\u001b[1;33m,\u001b[0m\u001b[1;33m\u001b[0m\u001b[1;33m\u001b[0m\u001b[0m\n",
      "\u001b[1;32mc:\\users\\rahul parande\\appdata\\local\\programs\\python\\python39\\lib\\site-packages\\pandas\\core\\groupby\\groupby.py\u001b[0m in \u001b[0;36m__init__\u001b[1;34m(self, obj, keys, axis, level, grouper, exclusions, selection, as_index, sort, group_keys, squeeze, observed, mutated, dropna)\u001b[0m\n\u001b[0;32m    880\u001b[0m             \u001b[1;32mfrom\u001b[0m \u001b[0mpandas\u001b[0m\u001b[1;33m.\u001b[0m\u001b[0mcore\u001b[0m\u001b[1;33m.\u001b[0m\u001b[0mgroupby\u001b[0m\u001b[1;33m.\u001b[0m\u001b[0mgrouper\u001b[0m \u001b[1;32mimport\u001b[0m \u001b[0mget_grouper\u001b[0m\u001b[1;33m\u001b[0m\u001b[1;33m\u001b[0m\u001b[0m\n\u001b[0;32m    881\u001b[0m \u001b[1;33m\u001b[0m\u001b[0m\n\u001b[1;32m--> 882\u001b[1;33m             grouper, exclusions, obj = get_grouper(\n\u001b[0m\u001b[0;32m    883\u001b[0m                 \u001b[0mobj\u001b[0m\u001b[1;33m,\u001b[0m\u001b[1;33m\u001b[0m\u001b[1;33m\u001b[0m\u001b[0m\n\u001b[0;32m    884\u001b[0m                 \u001b[0mkeys\u001b[0m\u001b[1;33m,\u001b[0m\u001b[1;33m\u001b[0m\u001b[1;33m\u001b[0m\u001b[0m\n",
      "\u001b[1;32mc:\\users\\rahul parande\\appdata\\local\\programs\\python\\python39\\lib\\site-packages\\pandas\\core\\groupby\\grouper.py\u001b[0m in \u001b[0;36mget_grouper\u001b[1;34m(obj, key, axis, level, sort, observed, mutated, validate, dropna)\u001b[0m\n\u001b[0;32m    875\u001b[0m                     \u001b[1;31m# non-unique columns; raise here to get the name in the\u001b[0m\u001b[1;33m\u001b[0m\u001b[1;33m\u001b[0m\u001b[1;33m\u001b[0m\u001b[0m\n\u001b[0;32m    876\u001b[0m                     \u001b[1;31m# exception message\u001b[0m\u001b[1;33m\u001b[0m\u001b[1;33m\u001b[0m\u001b[1;33m\u001b[0m\u001b[0m\n\u001b[1;32m--> 877\u001b[1;33m                     \u001b[1;32mraise\u001b[0m \u001b[0mValueError\u001b[0m\u001b[1;33m(\u001b[0m\u001b[1;34mf\"Grouper for '{name}' not 1-dimensional\"\u001b[0m\u001b[1;33m)\u001b[0m\u001b[1;33m\u001b[0m\u001b[1;33m\u001b[0m\u001b[0m\n\u001b[0m\u001b[0;32m    878\u001b[0m                 \u001b[0mexclusions\u001b[0m\u001b[1;33m.\u001b[0m\u001b[0madd\u001b[0m\u001b[1;33m(\u001b[0m\u001b[0mname\u001b[0m\u001b[1;33m)\u001b[0m\u001b[1;33m\u001b[0m\u001b[1;33m\u001b[0m\u001b[0m\n\u001b[0;32m    879\u001b[0m             \u001b[1;32melif\u001b[0m \u001b[0mobj\u001b[0m\u001b[1;33m.\u001b[0m\u001b[0m_is_level_reference\u001b[0m\u001b[1;33m(\u001b[0m\u001b[0mgpr\u001b[0m\u001b[1;33m,\u001b[0m \u001b[0maxis\u001b[0m\u001b[1;33m=\u001b[0m\u001b[0maxis\u001b[0m\u001b[1;33m)\u001b[0m\u001b[1;33m:\u001b[0m\u001b[1;33m\u001b[0m\u001b[1;33m\u001b[0m\u001b[0m\n",
      "\u001b[1;31mValueError\u001b[0m: Grouper for 'avg_salary' not 1-dimensional"
     ]
    }
   ],
   "source": [
    "for i in df_pivots.columns:\n",
    "    print(i)\n",
    "    print(pd.pivot_table(df_pivots,index =i, values = 'avg_salary').sort_values('avg_salary', ascending = False))"
   ]
  },
  {
   "cell_type": "code",
   "execution_count": 46,
   "id": "7e5a0371",
   "metadata": {},
   "outputs": [
    {
     "data": {
      "text/html": [
       "<div>\n",
       "<style scoped>\n",
       "    .dataframe tbody tr th:only-of-type {\n",
       "        vertical-align: middle;\n",
       "    }\n",
       "\n",
       "    .dataframe tbody tr th {\n",
       "        vertical-align: top;\n",
       "    }\n",
       "\n",
       "    .dataframe thead th {\n",
       "        text-align: right;\n",
       "    }\n",
       "</style>\n",
       "<table border=\"1\" class=\"dataframe\">\n",
       "  <thead>\n",
       "    <tr style=\"text-align: right;\">\n",
       "      <th>python_yn</th>\n",
       "      <th>0</th>\n",
       "      <th>1</th>\n",
       "    </tr>\n",
       "    <tr>\n",
       "      <th>Revenue</th>\n",
       "      <th></th>\n",
       "      <th></th>\n",
       "    </tr>\n",
       "  </thead>\n",
       "  <tbody>\n",
       "    <tr>\n",
       "      <th>$1 to $5 billion (USD)</th>\n",
       "      <td>37.0</td>\n",
       "      <td>1.0</td>\n",
       "    </tr>\n",
       "    <tr>\n",
       "      <th>$1 to $5 million (USD)</th>\n",
       "      <td>3.0</td>\n",
       "      <td>NaN</td>\n",
       "    </tr>\n",
       "    <tr>\n",
       "      <th>$10+ billion (USD)</th>\n",
       "      <td>62.0</td>\n",
       "      <td>4.0</td>\n",
       "    </tr>\n",
       "    <tr>\n",
       "      <th>$100 to $500 million (USD)</th>\n",
       "      <td>6.0</td>\n",
       "      <td>67.0</td>\n",
       "    </tr>\n",
       "    <tr>\n",
       "      <th>$25 to $100 million (USD)</th>\n",
       "      <td>71.0</td>\n",
       "      <td>2.0</td>\n",
       "    </tr>\n",
       "    <tr>\n",
       "      <th>$5 to $10 billion (USD)</th>\n",
       "      <td>12.0</td>\n",
       "      <td>2.0</td>\n",
       "    </tr>\n",
       "    <tr>\n",
       "      <th>$5 to $25 million (USD)</th>\n",
       "      <td>31.0</td>\n",
       "      <td>NaN</td>\n",
       "    </tr>\n",
       "    <tr>\n",
       "      <th>$500 million to $1 billion (USD)</th>\n",
       "      <td>25.0</td>\n",
       "      <td>28.0</td>\n",
       "    </tr>\n",
       "    <tr>\n",
       "      <th>-1</th>\n",
       "      <td>303.0</td>\n",
       "      <td>57.0</td>\n",
       "    </tr>\n",
       "    <tr>\n",
       "      <th>Less than $1 million (USD)</th>\n",
       "      <td>1.0</td>\n",
       "      <td>NaN</td>\n",
       "    </tr>\n",
       "    <tr>\n",
       "      <th>Unknown / Non-Applicable</th>\n",
       "      <td>219.0</td>\n",
       "      <td>7.0</td>\n",
       "    </tr>\n",
       "  </tbody>\n",
       "</table>\n",
       "</div>"
      ],
      "text/plain": [
       "python_yn                             0     1\n",
       "Revenue                                      \n",
       "$1 to $5 billion (USD)             37.0   1.0\n",
       "$1 to $5 million (USD)              3.0   NaN\n",
       "$10+ billion (USD)                 62.0   4.0\n",
       "$100 to $500 million (USD)          6.0  67.0\n",
       "$25 to $100 million (USD)          71.0   2.0\n",
       "$5 to $10 billion (USD)            12.0   2.0\n",
       "$5 to $25 million (USD)            31.0   NaN\n",
       "$500 million to $1 billion (USD)   25.0  28.0\n",
       "-1                                303.0  57.0\n",
       "Less than $1 million (USD)          1.0   NaN\n",
       "Unknown / Non-Applicable          219.0   7.0"
      ]
     },
     "execution_count": 46,
     "metadata": {},
     "output_type": "execute_result"
    }
   ],
   "source": [
    "pd.pivot_table(df_pivots, index = 'Revenue', columns = 'python_yn', values = 'avg_salary', aggfunc = 'count')\n"
   ]
  },
  {
   "cell_type": "code",
   "execution_count": 47,
   "id": "fddec671",
   "metadata": {},
   "outputs": [],
   "source": [
    "from wordcloud import WordCloud, ImageColorGenerator, STOPWORDS\n",
    "from nltk.corpus import stopwords\n",
    "from nltk.tokenize import word_tokenize"
   ]
  },
  {
   "cell_type": "code",
   "execution_count": 48,
   "id": "4e8948ca",
   "metadata": {},
   "outputs": [
    {
     "ename": "TypeError",
     "evalue": "imshow() missing 1 required positional argument: 'X'",
     "output_type": "error",
     "traceback": [
      "\u001b[1;31m---------------------------------------------------------------------------\u001b[0m",
      "\u001b[1;31mTypeError\u001b[0m                                 Traceback (most recent call last)",
      "\u001b[1;32mC:\\Users\\RAHULP~1\\AppData\\Local\\Temp/ipykernel_5004/4014772690.py\u001b[0m in \u001b[0;36m<module>\u001b[1;34m\u001b[0m\n\u001b[0;32m     20\u001b[0m \u001b[1;33m\u001b[0m\u001b[0m\n\u001b[0;32m     21\u001b[0m \u001b[0mplt\u001b[0m\u001b[1;33m.\u001b[0m\u001b[0mfigure\u001b[0m\u001b[1;33m(\u001b[0m\u001b[0mfigsize\u001b[0m\u001b[1;33m=\u001b[0m\u001b[1;33m[\u001b[0m\u001b[1;36m10\u001b[0m\u001b[1;33m,\u001b[0m\u001b[1;36m10\u001b[0m\u001b[1;33m]\u001b[0m\u001b[1;33m)\u001b[0m\u001b[1;33m\u001b[0m\u001b[1;33m\u001b[0m\u001b[0m\n\u001b[1;32m---> 22\u001b[1;33m \u001b[0mplt\u001b[0m\u001b[1;33m.\u001b[0m\u001b[0mimshow\u001b[0m\u001b[1;33m(\u001b[0m\u001b[0minterpolation\u001b[0m\u001b[1;33m=\u001b[0m\u001b[1;34m\"bilinear\"\u001b[0m\u001b[1;33m)\u001b[0m\u001b[1;33m\u001b[0m\u001b[1;33m\u001b[0m\u001b[0m\n\u001b[0m\u001b[0;32m     23\u001b[0m \u001b[0mplt\u001b[0m\u001b[1;33m.\u001b[0m\u001b[0maxis\u001b[0m\u001b[1;33m(\u001b[0m\u001b[1;34m'off'\u001b[0m\u001b[1;33m)\u001b[0m\u001b[1;33m\u001b[0m\u001b[1;33m\u001b[0m\u001b[0m\n\u001b[0;32m     24\u001b[0m \u001b[0mplt\u001b[0m\u001b[1;33m.\u001b[0m\u001b[0mshow\u001b[0m\u001b[1;33m(\u001b[0m\u001b[1;33m)\u001b[0m\u001b[1;33m\u001b[0m\u001b[1;33m\u001b[0m\u001b[0m\n",
      "\u001b[1;31mTypeError\u001b[0m: imshow() missing 1 required positional argument: 'X'"
     ]
    },
    {
     "data": {
      "text/plain": [
       "<Figure size 720x720 with 0 Axes>"
      ]
     },
     "metadata": {},
     "output_type": "display_data"
    }
   ],
   "source": [
    "words = \" \".join(df['Job Description'])\n",
    "\n",
    "def punctuation_stop(text):\n",
    "    \"\"\"remove punctuation and stop words\"\"\"\n",
    "    filtered = []\n",
    "    stop_words = set(stopwords.words('english'))\n",
    "    word_tokens = word_tokenize(text)\n",
    "    for w in word_tokens:\n",
    "        if w not in stop_words and w.isalpha():\n",
    "            filtered.append(w.lower())\n",
    "    return filtered\n",
    "\n",
    "\n",
    "words_filtered = punctuation_stop(words)\n",
    "\n",
    "text = \" \".join([ele for ele in words_filtered])\n",
    "\n",
    "wc= WordCloud(background_color=\"white\", random_state=1,stopwords=STOPWORDS, max_words = 2000, width =800, height = 1500)\n",
    "wc.generate(text)\n",
    "\n",
    "plt.figure(figsize=[10,10])\n",
    "plt.imshow(interpolation=\"bilinear\")\n",
    "plt.axis('off')\n",
    "plt.show()"
   ]
  },
  {
   "cell_type": "code",
   "execution_count": null,
   "id": "faa4c6b8",
   "metadata": {},
   "outputs": [],
   "source": []
  }
 ],
 "metadata": {
  "kernelspec": {
   "display_name": "Python 3 (ipykernel)",
   "language": "python",
   "name": "python3"
  },
  "language_info": {
   "codemirror_mode": {
    "name": "ipython",
    "version": 3
   },
   "file_extension": ".py",
   "mimetype": "text/x-python",
   "name": "python",
   "nbconvert_exporter": "python",
   "pygments_lexer": "ipython3",
   "version": "3.9.6"
  }
 },
 "nbformat": 4,
 "nbformat_minor": 5
}
